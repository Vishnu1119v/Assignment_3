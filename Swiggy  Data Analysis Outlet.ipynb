{
 "cells": [
  {
   "cell_type": "code",
   "execution_count": 4,
   "id": "f5b7c537",
   "metadata": {},
   "outputs": [],
   "source": [
    "## Project Title - Analyzing Swiggy : Bangalore delivery outlet data"
   ]
  },
  {
   "cell_type": "code",
   "execution_count": 5,
   "id": "19df7af4",
   "metadata": {},
   "outputs": [],
   "source": [
    "### Technologies - Business Intelligence\n",
    "### Domain - Food industry"
   ]
  },
  {
   "cell_type": "code",
   "execution_count": 6,
   "id": "b502239c",
   "metadata": {},
   "outputs": [
    {
     "ename": "SyntaxError",
     "evalue": "invalid syntax (3996080221.py, line 2)",
     "output_type": "error",
     "traceback": [
      "\u001b[1;36m  Input \u001b[1;32mIn [6]\u001b[1;36m\u001b[0m\n\u001b[1;33m    The online food ordering market includes foods prepared by restaurants, prepared by\u001b[0m\n\u001b[1;37m        ^\u001b[0m\n\u001b[1;31mSyntaxError\u001b[0m\u001b[1;31m:\u001b[0m invalid syntax\n"
     ]
    }
   ],
   "source": [
    "#### Problem Statement:\n",
    "The online food ordering market includes foods prepared by restaurants, prepared by\n",
    "independent people, and groceries being ordered online and then picked up or delivered.\n",
    "The first online food ordering service, World Wide Waiter (now known as Waiter.com),\n",
    "was founded in 1995. Online food ordering is the process of ordering food from a website\n",
    "or other application. The product can be either ready-to-eat food or food that has not been\n",
    "specially prepared for direction consumption.\n",
    "\n",
    "Do ETL : Extract-Transform-Load the dataset and find for me some information from this large data. This is form of data mining.\n",
    "What all information can be achieved by mining this data, would be explained in class by the trainer\n",
    "Find key metrics and factors and show the meaningful relationships between attributes."
   ]
  },
  {
   "cell_type": "markdown",
   "id": "9e9594a9",
   "metadata": {},
   "source": [
    "### import libraries"
   ]
  },
  {
   "cell_type": "code",
   "execution_count": 7,
   "id": "bbbb9ea5",
   "metadata": {},
   "outputs": [],
   "source": [
    "import numpy as np\n",
    "import pandas as pd\n",
    "import matplotlib.pyplot as plt\n",
    "import seaborn as sns\n",
    "import plotly.express as px\n",
    "import warnings\n",
    "warnings.filterwarnings('ignore')"
   ]
  },
  {
   "cell_type": "markdown",
   "id": "f5791b64",
   "metadata": {},
   "source": [
    "### Load data"
   ]
  },
  {
   "cell_type": "code",
   "execution_count": 65,
   "id": "00668c75",
   "metadata": {},
   "outputs": [],
   "source": [
    "df=pd.read_csv(r\"C:\\Users\\91630\\Downloads\\archive (13)\\Swiggy Bangalore Outlet Details.csv\")"
   ]
  },
  {
   "cell_type": "code",
   "execution_count": 66,
   "id": "2b55cd33",
   "metadata": {},
   "outputs": [
    {
     "data": {
      "text/html": [
       "<div>\n",
       "<style scoped>\n",
       "    .dataframe tbody tr th:only-of-type {\n",
       "        vertical-align: middle;\n",
       "    }\n",
       "\n",
       "    .dataframe tbody tr th {\n",
       "        vertical-align: top;\n",
       "    }\n",
       "\n",
       "    .dataframe thead th {\n",
       "        text-align: right;\n",
       "    }\n",
       "</style>\n",
       "<table border=\"1\" class=\"dataframe\">\n",
       "  <thead>\n",
       "    <tr style=\"text-align: right;\">\n",
       "      <th></th>\n",
       "      <th>Shop_Name</th>\n",
       "      <th>Cuisine</th>\n",
       "      <th>Location</th>\n",
       "      <th>Rating</th>\n",
       "      <th>Cost_for_Two</th>\n",
       "    </tr>\n",
       "  </thead>\n",
       "  <tbody>\n",
       "    <tr>\n",
       "      <th>0</th>\n",
       "      <td>Kanti Sweets</td>\n",
       "      <td>Sweets</td>\n",
       "      <td>Koramangala, Koramangala</td>\n",
       "      <td>4.3</td>\n",
       "      <td>₹ 150</td>\n",
       "    </tr>\n",
       "    <tr>\n",
       "      <th>1</th>\n",
       "      <td>Mumbai Tiffin</td>\n",
       "      <td>North Indian, Home Food, Thalis, Combo</td>\n",
       "      <td>Sector 5, HSR</td>\n",
       "      <td>4.4</td>\n",
       "      <td>₹ 400</td>\n",
       "    </tr>\n",
       "    <tr>\n",
       "      <th>2</th>\n",
       "      <td>Sri Krishna sagar</td>\n",
       "      <td>South Indian, North Indian, Fast Food, Beverag...</td>\n",
       "      <td>6th Block, Koramangala</td>\n",
       "      <td>4.1</td>\n",
       "      <td>₹ 126</td>\n",
       "    </tr>\n",
       "    <tr>\n",
       "      <th>3</th>\n",
       "      <td>Al Daaz</td>\n",
       "      <td>American, Arabian, Chinese, Desserts, Fast Foo...</td>\n",
       "      <td>HSR, HSR</td>\n",
       "      <td>4.4</td>\n",
       "      <td>₹ 400</td>\n",
       "    </tr>\n",
       "    <tr>\n",
       "      <th>4</th>\n",
       "      <td>Beijing Bites</td>\n",
       "      <td>Chinese, Thai</td>\n",
       "      <td>5th Block, Koramangala</td>\n",
       "      <td>4.1</td>\n",
       "      <td>₹ 450</td>\n",
       "    </tr>\n",
       "    <tr>\n",
       "      <th>...</th>\n",
       "      <td>...</td>\n",
       "      <td>...</td>\n",
       "      <td>...</td>\n",
       "      <td>...</td>\n",
       "      <td>...</td>\n",
       "    </tr>\n",
       "    <tr>\n",
       "      <th>113</th>\n",
       "      <td>Wok Paper Scissors</td>\n",
       "      <td>Pan-Asian, Chinese, Asian</td>\n",
       "      <td>JNC Road, Koramangala</td>\n",
       "      <td>3.9</td>\n",
       "      <td>₹ 219</td>\n",
       "    </tr>\n",
       "    <tr>\n",
       "      <th>114</th>\n",
       "      <td>Savoury Restaurant</td>\n",
       "      <td>Arabian, Middle Eastern, North Indian, Grill, ...</td>\n",
       "      <td>Madiwala, BTM</td>\n",
       "      <td>4.1</td>\n",
       "      <td>₹ 600</td>\n",
       "    </tr>\n",
       "    <tr>\n",
       "      <th>115</th>\n",
       "      <td>Royal Treat</td>\n",
       "      <td>North Indian, Chinese, Seafood, Biryani</td>\n",
       "      <td>5th block Koramangala, Koramangala</td>\n",
       "      <td>4.2</td>\n",
       "      <td>₹ 193</td>\n",
       "    </tr>\n",
       "    <tr>\n",
       "      <th>116</th>\n",
       "      <td>Thali 99</td>\n",
       "      <td>North Indian</td>\n",
       "      <td>Koramangala, Koramangala</td>\n",
       "      <td>4.3</td>\n",
       "      <td>₹ 200</td>\n",
       "    </tr>\n",
       "    <tr>\n",
       "      <th>117</th>\n",
       "      <td>Mani's Dum Biryani</td>\n",
       "      <td>Andhra, Biryani</td>\n",
       "      <td>1st Block, Koramangala</td>\n",
       "      <td>4.2</td>\n",
       "      <td>₹ 400</td>\n",
       "    </tr>\n",
       "  </tbody>\n",
       "</table>\n",
       "<p>118 rows × 5 columns</p>\n",
       "</div>"
      ],
      "text/plain": [
       "              Shop_Name                                            Cuisine  \\\n",
       "0          Kanti Sweets                                             Sweets   \n",
       "1         Mumbai Tiffin             North Indian, Home Food, Thalis, Combo   \n",
       "2     Sri Krishna sagar  South Indian, North Indian, Fast Food, Beverag...   \n",
       "3               Al Daaz  American, Arabian, Chinese, Desserts, Fast Foo...   \n",
       "4         Beijing Bites                                      Chinese, Thai   \n",
       "..                  ...                                                ...   \n",
       "113  Wok Paper Scissors                          Pan-Asian, Chinese, Asian   \n",
       "114  Savoury Restaurant  Arabian, Middle Eastern, North Indian, Grill, ...   \n",
       "115         Royal Treat            North Indian, Chinese, Seafood, Biryani   \n",
       "116            Thali 99                                       North Indian   \n",
       "117  Mani's Dum Biryani                                    Andhra, Biryani   \n",
       "\n",
       "                               Location Rating Cost_for_Two  \n",
       "0              Koramangala, Koramangala    4.3        ₹ 150  \n",
       "1                         Sector 5, HSR    4.4        ₹ 400  \n",
       "2                6th Block, Koramangala    4.1        ₹ 126  \n",
       "3                              HSR, HSR    4.4        ₹ 400  \n",
       "4                5th Block, Koramangala    4.1        ₹ 450  \n",
       "..                                  ...    ...          ...  \n",
       "113               JNC Road, Koramangala    3.9        ₹ 219  \n",
       "114                       Madiwala, BTM    4.1        ₹ 600  \n",
       "115  5th block Koramangala, Koramangala    4.2        ₹ 193  \n",
       "116            Koramangala, Koramangala    4.3        ₹ 200  \n",
       "117              1st Block, Koramangala    4.2        ₹ 400  \n",
       "\n",
       "[118 rows x 5 columns]"
      ]
     },
     "execution_count": 66,
     "metadata": {},
     "output_type": "execute_result"
    }
   ],
   "source": [
    "df"
   ]
  },
  {
   "cell_type": "code",
   "execution_count": 67,
   "id": "2d13f0eb",
   "metadata": {},
   "outputs": [
    {
     "data": {
      "text/plain": [
       "(118, 5)"
      ]
     },
     "execution_count": 67,
     "metadata": {},
     "output_type": "execute_result"
    }
   ],
   "source": [
    "df.shape"
   ]
  },
  {
   "cell_type": "code",
   "execution_count": 68,
   "id": "7343f556",
   "metadata": {},
   "outputs": [
    {
     "data": {
      "text/plain": [
       "Shop_Name       object\n",
       "Cuisine         object\n",
       "Location        object\n",
       "Rating          object\n",
       "Cost_for_Two    object\n",
       "dtype: object"
      ]
     },
     "execution_count": 68,
     "metadata": {},
     "output_type": "execute_result"
    }
   ],
   "source": [
    "df.dtypes"
   ]
  },
  {
   "cell_type": "code",
   "execution_count": 69,
   "id": "56c60a75",
   "metadata": {},
   "outputs": [
    {
     "data": {
      "text/plain": [
       "Index(['Shop_Name', 'Cuisine', 'Location', 'Rating', 'Cost_for_Two'], dtype='object')"
      ]
     },
     "execution_count": 69,
     "metadata": {},
     "output_type": "execute_result"
    }
   ],
   "source": [
    "df.columns"
   ]
  },
  {
   "cell_type": "code",
   "execution_count": 70,
   "id": "02bddd3c",
   "metadata": {},
   "outputs": [
    {
     "data": {
      "text/html": [
       "<div>\n",
       "<style scoped>\n",
       "    .dataframe tbody tr th:only-of-type {\n",
       "        vertical-align: middle;\n",
       "    }\n",
       "\n",
       "    .dataframe tbody tr th {\n",
       "        vertical-align: top;\n",
       "    }\n",
       "\n",
       "    .dataframe thead th {\n",
       "        text-align: right;\n",
       "    }\n",
       "</style>\n",
       "<table border=\"1\" class=\"dataframe\">\n",
       "  <thead>\n",
       "    <tr style=\"text-align: right;\">\n",
       "      <th></th>\n",
       "      <th>Shop_Name</th>\n",
       "      <th>Cuisine</th>\n",
       "      <th>Location</th>\n",
       "      <th>Rating</th>\n",
       "      <th>Cost_for_Two</th>\n",
       "    </tr>\n",
       "  </thead>\n",
       "  <tbody>\n",
       "    <tr>\n",
       "      <th>0</th>\n",
       "      <td>False</td>\n",
       "      <td>False</td>\n",
       "      <td>False</td>\n",
       "      <td>False</td>\n",
       "      <td>False</td>\n",
       "    </tr>\n",
       "    <tr>\n",
       "      <th>1</th>\n",
       "      <td>False</td>\n",
       "      <td>False</td>\n",
       "      <td>False</td>\n",
       "      <td>False</td>\n",
       "      <td>False</td>\n",
       "    </tr>\n",
       "    <tr>\n",
       "      <th>2</th>\n",
       "      <td>False</td>\n",
       "      <td>False</td>\n",
       "      <td>False</td>\n",
       "      <td>False</td>\n",
       "      <td>False</td>\n",
       "    </tr>\n",
       "    <tr>\n",
       "      <th>3</th>\n",
       "      <td>False</td>\n",
       "      <td>False</td>\n",
       "      <td>False</td>\n",
       "      <td>False</td>\n",
       "      <td>False</td>\n",
       "    </tr>\n",
       "    <tr>\n",
       "      <th>4</th>\n",
       "      <td>False</td>\n",
       "      <td>False</td>\n",
       "      <td>False</td>\n",
       "      <td>False</td>\n",
       "      <td>False</td>\n",
       "    </tr>\n",
       "    <tr>\n",
       "      <th>...</th>\n",
       "      <td>...</td>\n",
       "      <td>...</td>\n",
       "      <td>...</td>\n",
       "      <td>...</td>\n",
       "      <td>...</td>\n",
       "    </tr>\n",
       "    <tr>\n",
       "      <th>113</th>\n",
       "      <td>False</td>\n",
       "      <td>False</td>\n",
       "      <td>False</td>\n",
       "      <td>False</td>\n",
       "      <td>False</td>\n",
       "    </tr>\n",
       "    <tr>\n",
       "      <th>114</th>\n",
       "      <td>False</td>\n",
       "      <td>False</td>\n",
       "      <td>False</td>\n",
       "      <td>False</td>\n",
       "      <td>False</td>\n",
       "    </tr>\n",
       "    <tr>\n",
       "      <th>115</th>\n",
       "      <td>False</td>\n",
       "      <td>False</td>\n",
       "      <td>False</td>\n",
       "      <td>False</td>\n",
       "      <td>False</td>\n",
       "    </tr>\n",
       "    <tr>\n",
       "      <th>116</th>\n",
       "      <td>False</td>\n",
       "      <td>False</td>\n",
       "      <td>False</td>\n",
       "      <td>False</td>\n",
       "      <td>False</td>\n",
       "    </tr>\n",
       "    <tr>\n",
       "      <th>117</th>\n",
       "      <td>False</td>\n",
       "      <td>False</td>\n",
       "      <td>False</td>\n",
       "      <td>False</td>\n",
       "      <td>False</td>\n",
       "    </tr>\n",
       "  </tbody>\n",
       "</table>\n",
       "<p>118 rows × 5 columns</p>\n",
       "</div>"
      ],
      "text/plain": [
       "     Shop_Name  Cuisine  Location  Rating  Cost_for_Two\n",
       "0        False    False     False   False         False\n",
       "1        False    False     False   False         False\n",
       "2        False    False     False   False         False\n",
       "3        False    False     False   False         False\n",
       "4        False    False     False   False         False\n",
       "..         ...      ...       ...     ...           ...\n",
       "113      False    False     False   False         False\n",
       "114      False    False     False   False         False\n",
       "115      False    False     False   False         False\n",
       "116      False    False     False   False         False\n",
       "117      False    False     False   False         False\n",
       "\n",
       "[118 rows x 5 columns]"
      ]
     },
     "execution_count": 70,
     "metadata": {},
     "output_type": "execute_result"
    }
   ],
   "source": [
    "df.isna()"
   ]
  },
  {
   "cell_type": "code",
   "execution_count": 71,
   "id": "1e95d0b3",
   "metadata": {},
   "outputs": [
    {
     "data": {
      "text/plain": [
       "Shop_Name       0\n",
       "Cuisine         0\n",
       "Location        0\n",
       "Rating          0\n",
       "Cost_for_Two    0\n",
       "dtype: int64"
      ]
     },
     "execution_count": 71,
     "metadata": {},
     "output_type": "execute_result"
    }
   ],
   "source": [
    "df.isna().sum()"
   ]
  },
  {
   "cell_type": "markdown",
   "id": "7db89ee3",
   "metadata": {},
   "source": [
    "#### No null values"
   ]
  },
  {
   "cell_type": "markdown",
   "id": "3356810f",
   "metadata": {},
   "source": [
    "# Data Cleaning"
   ]
  },
  {
   "cell_type": "code",
   "execution_count": 72,
   "id": "7e1945a6",
   "metadata": {},
   "outputs": [
    {
     "data": {
      "text/html": [
       "<div>\n",
       "<style scoped>\n",
       "    .dataframe tbody tr th:only-of-type {\n",
       "        vertical-align: middle;\n",
       "    }\n",
       "\n",
       "    .dataframe tbody tr th {\n",
       "        vertical-align: top;\n",
       "    }\n",
       "\n",
       "    .dataframe thead th {\n",
       "        text-align: right;\n",
       "    }\n",
       "</style>\n",
       "<table border=\"1\" class=\"dataframe\">\n",
       "  <thead>\n",
       "    <tr style=\"text-align: right;\">\n",
       "      <th></th>\n",
       "      <th>Shop_Name</th>\n",
       "      <th>Cuisine</th>\n",
       "      <th>Location</th>\n",
       "      <th>Rating</th>\n",
       "      <th>Cost_for_Two</th>\n",
       "    </tr>\n",
       "  </thead>\n",
       "  <tbody>\n",
       "    <tr>\n",
       "      <th>0</th>\n",
       "      <td>Kanti Sweets</td>\n",
       "      <td>Sweets</td>\n",
       "      <td>Koramangala, Koramangala</td>\n",
       "      <td>4.3</td>\n",
       "      <td>₹ 150</td>\n",
       "    </tr>\n",
       "    <tr>\n",
       "      <th>1</th>\n",
       "      <td>Mumbai Tiffin</td>\n",
       "      <td>North Indian, Home Food, Thalis, Combo</td>\n",
       "      <td>Sector 5, HSR</td>\n",
       "      <td>4.4</td>\n",
       "      <td>₹ 400</td>\n",
       "    </tr>\n",
       "    <tr>\n",
       "      <th>2</th>\n",
       "      <td>Sri Krishna sagar</td>\n",
       "      <td>South Indian, North Indian, Fast Food, Beverag...</td>\n",
       "      <td>6th Block, Koramangala</td>\n",
       "      <td>4.1</td>\n",
       "      <td>₹ 126</td>\n",
       "    </tr>\n",
       "    <tr>\n",
       "      <th>3</th>\n",
       "      <td>Al Daaz</td>\n",
       "      <td>American, Arabian, Chinese, Desserts, Fast Foo...</td>\n",
       "      <td>HSR, HSR</td>\n",
       "      <td>4.4</td>\n",
       "      <td>₹ 400</td>\n",
       "    </tr>\n",
       "    <tr>\n",
       "      <th>4</th>\n",
       "      <td>Beijing Bites</td>\n",
       "      <td>Chinese, Thai</td>\n",
       "      <td>5th Block, Koramangala</td>\n",
       "      <td>4.1</td>\n",
       "      <td>₹ 450</td>\n",
       "    </tr>\n",
       "    <tr>\n",
       "      <th>...</th>\n",
       "      <td>...</td>\n",
       "      <td>...</td>\n",
       "      <td>...</td>\n",
       "      <td>...</td>\n",
       "      <td>...</td>\n",
       "    </tr>\n",
       "    <tr>\n",
       "      <th>113</th>\n",
       "      <td>Wok Paper Scissors</td>\n",
       "      <td>Pan-Asian, Chinese, Asian</td>\n",
       "      <td>JNC Road, Koramangala</td>\n",
       "      <td>3.9</td>\n",
       "      <td>₹ 219</td>\n",
       "    </tr>\n",
       "    <tr>\n",
       "      <th>114</th>\n",
       "      <td>Savoury Restaurant</td>\n",
       "      <td>Arabian, Middle Eastern, North Indian, Grill, ...</td>\n",
       "      <td>Madiwala, BTM</td>\n",
       "      <td>4.1</td>\n",
       "      <td>₹ 600</td>\n",
       "    </tr>\n",
       "    <tr>\n",
       "      <th>115</th>\n",
       "      <td>Royal Treat</td>\n",
       "      <td>North Indian, Chinese, Seafood, Biryani</td>\n",
       "      <td>5th block Koramangala, Koramangala</td>\n",
       "      <td>4.2</td>\n",
       "      <td>₹ 193</td>\n",
       "    </tr>\n",
       "    <tr>\n",
       "      <th>116</th>\n",
       "      <td>Thali 99</td>\n",
       "      <td>North Indian</td>\n",
       "      <td>Koramangala, Koramangala</td>\n",
       "      <td>4.3</td>\n",
       "      <td>₹ 200</td>\n",
       "    </tr>\n",
       "    <tr>\n",
       "      <th>117</th>\n",
       "      <td>Mani's Dum Biryani</td>\n",
       "      <td>Andhra, Biryani</td>\n",
       "      <td>1st Block, Koramangala</td>\n",
       "      <td>4.2</td>\n",
       "      <td>₹ 400</td>\n",
       "    </tr>\n",
       "  </tbody>\n",
       "</table>\n",
       "<p>118 rows × 5 columns</p>\n",
       "</div>"
      ],
      "text/plain": [
       "              Shop_Name                                            Cuisine  \\\n",
       "0          Kanti Sweets                                             Sweets   \n",
       "1         Mumbai Tiffin             North Indian, Home Food, Thalis, Combo   \n",
       "2     Sri Krishna sagar  South Indian, North Indian, Fast Food, Beverag...   \n",
       "3               Al Daaz  American, Arabian, Chinese, Desserts, Fast Foo...   \n",
       "4         Beijing Bites                                      Chinese, Thai   \n",
       "..                  ...                                                ...   \n",
       "113  Wok Paper Scissors                          Pan-Asian, Chinese, Asian   \n",
       "114  Savoury Restaurant  Arabian, Middle Eastern, North Indian, Grill, ...   \n",
       "115         Royal Treat            North Indian, Chinese, Seafood, Biryani   \n",
       "116            Thali 99                                       North Indian   \n",
       "117  Mani's Dum Biryani                                    Andhra, Biryani   \n",
       "\n",
       "                               Location Rating Cost_for_Two  \n",
       "0              Koramangala, Koramangala    4.3        ₹ 150  \n",
       "1                         Sector 5, HSR    4.4        ₹ 400  \n",
       "2                6th Block, Koramangala    4.1        ₹ 126  \n",
       "3                              HSR, HSR    4.4        ₹ 400  \n",
       "4                5th Block, Koramangala    4.1        ₹ 450  \n",
       "..                                  ...    ...          ...  \n",
       "113               JNC Road, Koramangala    3.9        ₹ 219  \n",
       "114                       Madiwala, BTM    4.1        ₹ 600  \n",
       "115  5th block Koramangala, Koramangala    4.2        ₹ 193  \n",
       "116            Koramangala, Koramangala    4.3        ₹ 200  \n",
       "117              1st Block, Koramangala    4.2        ₹ 400  \n",
       "\n",
       "[118 rows x 5 columns]"
      ]
     },
     "execution_count": 72,
     "metadata": {},
     "output_type": "execute_result"
    }
   ],
   "source": [
    "df.drop_duplicates()"
   ]
  },
  {
   "cell_type": "markdown",
   "id": "6bea1585",
   "metadata": {},
   "source": [
    "#### No duplicate values"
   ]
  },
  {
   "cell_type": "code",
   "execution_count": 73,
   "id": "d247c7a2",
   "metadata": {},
   "outputs": [
    {
     "name": "stdout",
     "output_type": "stream",
     "text": [
      "<class 'pandas.core.frame.DataFrame'>\n",
      "RangeIndex: 118 entries, 0 to 117\n",
      "Data columns (total 5 columns):\n",
      " #   Column        Non-Null Count  Dtype \n",
      "---  ------        --------------  ----- \n",
      " 0   Shop_Name     118 non-null    object\n",
      " 1   Cuisine       118 non-null    object\n",
      " 2   Location      118 non-null    object\n",
      " 3   Rating        118 non-null    object\n",
      " 4   Cost_for_Two  118 non-null    object\n",
      "dtypes: object(5)\n",
      "memory usage: 4.7+ KB\n"
     ]
    }
   ],
   "source": [
    "df.info()"
   ]
  },
  {
   "cell_type": "code",
   "execution_count": 74,
   "id": "79e5af5f",
   "metadata": {},
   "outputs": [
    {
     "data": {
      "text/plain": [
       "array(['4.3', '4.4', '4.1', '4.2', '3.9', '3.8', '4', '3.7', '3.6', '4.8',\n",
       "       '4.5', '4.6', '--'], dtype=object)"
      ]
     },
     "execution_count": 74,
     "metadata": {},
     "output_type": "execute_result"
    }
   ],
   "source": [
    "df.Rating.unique()"
   ]
  },
  {
   "cell_type": "markdown",
   "id": "06606860",
   "metadata": {},
   "source": [
    "### drop data with rating --(unknown)"
   ]
  },
  {
   "cell_type": "code",
   "execution_count": 75,
   "id": "75e67d7c",
   "metadata": {},
   "outputs": [],
   "source": [
    "df.drop(df[df['Rating']==\"--\"].index,inplace=True)"
   ]
  },
  {
   "cell_type": "code",
   "execution_count": 76,
   "id": "7750daeb",
   "metadata": {},
   "outputs": [
    {
     "data": {
      "text/plain": [
       "array(['4.3', '4.4', '4.1', '4.2', '3.9', '3.8', '4', '3.7', '3.6', '4.8',\n",
       "       '4.5', '4.6'], dtype=object)"
      ]
     },
     "execution_count": 76,
     "metadata": {},
     "output_type": "execute_result"
    }
   ],
   "source": [
    "df['Rating'].unique()"
   ]
  },
  {
   "cell_type": "code",
   "execution_count": 77,
   "id": "b85cacc5",
   "metadata": {},
   "outputs": [
    {
     "name": "stdout",
     "output_type": "stream",
     "text": [
      "<class 'pandas.core.frame.DataFrame'>\n",
      "Int64Index: 117 entries, 0 to 117\n",
      "Data columns (total 5 columns):\n",
      " #   Column        Non-Null Count  Dtype  \n",
      "---  ------        --------------  -----  \n",
      " 0   Shop_Name     117 non-null    object \n",
      " 1   Cuisine       117 non-null    object \n",
      " 2   Location      117 non-null    object \n",
      " 3   Rating        117 non-null    float64\n",
      " 4   Cost_for_Two  117 non-null    object \n",
      "dtypes: float64(1), object(4)\n",
      "memory usage: 5.5+ KB\n"
     ]
    }
   ],
   "source": [
    "df['Rating']=df['Rating'].astype('float')\n",
    "df.info()"
   ]
  },
  {
   "cell_type": "markdown",
   "id": "c1b387cd",
   "metadata": {},
   "source": [
    "## formatting the cost of two column"
   ]
  },
  {
   "cell_type": "code",
   "execution_count": 78,
   "id": "7022baef",
   "metadata": {},
   "outputs": [
    {
     "data": {
      "text/plain": [
       "array(['₹ 150', '₹ 400', '₹ 126', '₹ 450', '₹ 350', '₹ 200', '₹ 500',\n",
       "       '₹ 247', '₹ 550', '₹ 300', '₹ 129', '₹ 250', '₹ 268', '₹ 600',\n",
       "       '₹ 527', '₹ 130', '₹ 257', '₹ 280', '₹ 399', '₹ 220', '₹ 800',\n",
       "       '₹ 100', '₹ 178', '₹ 120', '₹ 251', '₹ 650', '₹ 132', '₹ 153',\n",
       "       '₹ 219', '₹ 193'], dtype=object)"
      ]
     },
     "execution_count": 78,
     "metadata": {},
     "output_type": "execute_result"
    }
   ],
   "source": [
    "df.Cost_for_Two.unique()"
   ]
  },
  {
   "cell_type": "code",
   "execution_count": 79,
   "id": "3bdecfce",
   "metadata": {},
   "outputs": [],
   "source": [
    "def Cost_for_Two(value):\n",
    "    cost=value.split(' ')[1]\n",
    "    return cost"
   ]
  },
  {
   "cell_type": "code",
   "execution_count": 80,
   "id": "8a8bae09",
   "metadata": {},
   "outputs": [],
   "source": [
    "df['Cost_for_Two']=df['Cost_for_Two'].apply(Cost_for_Two)"
   ]
  },
  {
   "cell_type": "code",
   "execution_count": 81,
   "id": "6572afd6",
   "metadata": {},
   "outputs": [],
   "source": [
    "df['Cost_for_Two']=df.Cost_for_Two.astype('int')"
   ]
  },
  {
   "cell_type": "code",
   "execution_count": 82,
   "id": "4824c99f",
   "metadata": {},
   "outputs": [
    {
     "data": {
      "text/html": [
       "<div>\n",
       "<style scoped>\n",
       "    .dataframe tbody tr th:only-of-type {\n",
       "        vertical-align: middle;\n",
       "    }\n",
       "\n",
       "    .dataframe tbody tr th {\n",
       "        vertical-align: top;\n",
       "    }\n",
       "\n",
       "    .dataframe thead th {\n",
       "        text-align: right;\n",
       "    }\n",
       "</style>\n",
       "<table border=\"1\" class=\"dataframe\">\n",
       "  <thead>\n",
       "    <tr style=\"text-align: right;\">\n",
       "      <th></th>\n",
       "      <th>Rating</th>\n",
       "      <th>Cost_for_Two</th>\n",
       "    </tr>\n",
       "  </thead>\n",
       "  <tbody>\n",
       "    <tr>\n",
       "      <th>count</th>\n",
       "      <td>117.000000</td>\n",
       "      <td>117.000000</td>\n",
       "    </tr>\n",
       "    <tr>\n",
       "      <th>mean</th>\n",
       "      <td>4.096581</td>\n",
       "      <td>320.760684</td>\n",
       "    </tr>\n",
       "    <tr>\n",
       "      <th>std</th>\n",
       "      <td>0.209240</td>\n",
       "      <td>137.850784</td>\n",
       "    </tr>\n",
       "    <tr>\n",
       "      <th>min</th>\n",
       "      <td>3.600000</td>\n",
       "      <td>100.000000</td>\n",
       "    </tr>\n",
       "    <tr>\n",
       "      <th>25%</th>\n",
       "      <td>4.000000</td>\n",
       "      <td>200.000000</td>\n",
       "    </tr>\n",
       "    <tr>\n",
       "      <th>50%</th>\n",
       "      <td>4.100000</td>\n",
       "      <td>300.000000</td>\n",
       "    </tr>\n",
       "    <tr>\n",
       "      <th>75%</th>\n",
       "      <td>4.300000</td>\n",
       "      <td>400.000000</td>\n",
       "    </tr>\n",
       "    <tr>\n",
       "      <th>max</th>\n",
       "      <td>4.800000</td>\n",
       "      <td>800.000000</td>\n",
       "    </tr>\n",
       "  </tbody>\n",
       "</table>\n",
       "</div>"
      ],
      "text/plain": [
       "           Rating  Cost_for_Two\n",
       "count  117.000000    117.000000\n",
       "mean     4.096581    320.760684\n",
       "std      0.209240    137.850784\n",
       "min      3.600000    100.000000\n",
       "25%      4.000000    200.000000\n",
       "50%      4.100000    300.000000\n",
       "75%      4.300000    400.000000\n",
       "max      4.800000    800.000000"
      ]
     },
     "execution_count": 82,
     "metadata": {},
     "output_type": "execute_result"
    }
   ],
   "source": [
    "df.describe()"
   ]
  },
  {
   "cell_type": "markdown",
   "id": "922199ca",
   "metadata": {},
   "source": [
    "###### mean rating is 4.06 which means that the food is pretty good in banglore restaurants\n",
    "###### minimum cost is 100 and maximum cost is 800\n",
    "###### mean cost is 321 for two people which is affordable"
   ]
  },
  {
   "cell_type": "markdown",
   "id": "888d13ab",
   "metadata": {},
   "source": [
    "# Rating Analysis"
   ]
  },
  {
   "cell_type": "code",
   "execution_count": 83,
   "id": "370dd6a6",
   "metadata": {},
   "outputs": [
    {
     "data": {
      "text/plain": [
       "Text(0.5, 1.0, 'Rating')"
      ]
     },
     "execution_count": 83,
     "metadata": {},
     "output_type": "execute_result"
    },
    {
     "data": {
      "image/png": "[encoded data removed]",
      "text/plain": [
       "<Figure size 864x432 with 1 Axes>"
      ]
     },
     "metadata": {},
     "output_type": "display_data"
    }
   ],
   "source": [
    "plt.figure(figsize=(12,6))\n",
    "sns.distplot(df['Rating'], color='Blue')\n",
    "plt.title('Rating', fontsize=24)"
   ]
  },
  {
   "cell_type": "markdown",
   "id": "f6e8e46a",
   "metadata": {},
   "source": [
    "##### From the above distribution more than 50% restaurants are having rating greater than median rating(4.1).\n",
    "##### maximum rating is 4.8\n",
    "##### it is clear that these restaurants are consider to be good by customers"
   ]
  },
  {
   "cell_type": "markdown",
   "id": "c102baec",
   "metadata": {},
   "source": [
    "# Cost for Two Analysis"
   ]
  },
  {
   "cell_type": "code",
   "execution_count": 27,
   "id": "617ec034",
   "metadata": {},
   "outputs": [
    {
     "data": {
      "text/plain": [
       "Text(0.5, 1.0, 'cost for two people analysis')"
      ]
     },
     "execution_count": 27,
     "metadata": {},
     "output_type": "execute_result"
    },
    {
     "data": {
      "image/png": "[encoded data removed]",
      "text/plain": [
       "<Figure size 864x576 with 1 Axes>"
      ]
     },
     "metadata": {
      "needs_background": "light"
     },
     "output_type": "display_data"
    }
   ],
   "source": [
    "\n",
    "plt.figure(figsize=(12,8))\n",
    "sns.distplot(df['Cost_for_Two'], color='blue')\n",
    "plt.title('cost for two people analysis', fontsize=12)"
   ]
  },
  {
   "cell_type": "markdown",
   "id": "9c295f73",
   "metadata": {},
   "source": [
    "#### more than 50% restaurants have cost for two people above median value which indicate than most of the restaurants are costly for dining"
   ]
  },
  {
   "cell_type": "markdown",
   "id": "69ee5d72",
   "metadata": {},
   "source": [
    "# Area wise Data Analysis"
   ]
  },
  {
   "cell_type": "code",
   "execution_count": 28,
   "id": "09c82b95",
   "metadata": {},
   "outputs": [
    {
     "data": {
      "text/plain": [
       "array(['Koramangala, Koramangala', 'Sector 5, HSR',\n",
       "       '6th Block, Koramangala', 'HSR, HSR', '5th Block, Koramangala',\n",
       "       'Koramangala 4th  Block, Koramangala', 'BTM 2nd Stage, BTM',\n",
       "       'BTM, BTM', '9th Main road, Koramangala', 'outer ring road, BTM',\n",
       "       '7th Block, Koramangala', '1st MAin, Koramangala',\n",
       "       'Bommanahalli, BTM', '6th block, Koramangala', 'Sector 4, HSR',\n",
       "       'BTM 1st stage, BTM', 'Jakkasandra Extn, Koramangala',\n",
       "       'Marutinagar Main Road, BTM', '1st Block, Koramangala',\n",
       "       '4th Cross, BTM', 'koramangala, Koramangala', 'BTM 2nd stage, BTM',\n",
       "       '3rd main, BTM', 'HSR 1st sector, HSR', 'Sector 7, HSR',\n",
       "       '3rd Sector, HSR', 'Chocolate Factory Road, BTM',\n",
       "       '16th Main Road, 2nd Stage, BTM', '1st Stage, BTM',\n",
       "       'Hosur Main Road, Koramangala',\n",
       "       '1st Cross Road, 5th Block, Near Jyothi Nivas College, Koramangala',\n",
       "       'Mico Layout, BTM', '4th Cross, Koramangala',\n",
       "       '4th Block, Koramangala', 'Intermediate Ring Road, Koramangala',\n",
       "       '3rd sector, HSR', '8TH BLOCK, Koramangala',\n",
       "       '4th b cross, Koramangala', 'SG palaya, BTM',\n",
       "       \"Venkatapura Main Rd, Teacher's Colony, Jakkasandra, HSR\",\n",
       "       'KHB Colony, Koramangala', 'Sector 3, HSR',\n",
       "       'Bannerghatta Road, Jayanagar',\n",
       "       '80 Feet Peripheral Road, Koramangala', 'Btm, BTM',\n",
       "       'Near Wipro Park Signal, Koramangala', '16th Main Road, BTM',\n",
       "       '2nd Stage, BTM', 'Kuvempu Nagar, Stage 2, BTM',\n",
       "       'Koramangala 1st block, Koramangala',\n",
       "       '5th Block Kormangala, Koramangala', 'Koramangla, Koramangala',\n",
       "       '5th block, Koramangala', '9th Main Rd, Sector 6, HSR Layout, HSR',\n",
       "       'Jay Bheema Nagar, BTM', 'Koramangala 6th block, Koramangala',\n",
       "       'Maruthi Nagar, BTM', 'Sector 6, HSR',\n",
       "       'Jakkasandra Village, Koramangala', '4th block, Koramangala',\n",
       "       'Madiwala Junction, BTM', 'kormangala, Koramangala',\n",
       "       'JNC Road, Koramangala', 'Madiwala, BTM',\n",
       "       '5th block Koramangala, Koramangala'], dtype=object)"
      ]
     },
     "execution_count": 28,
     "metadata": {},
     "output_type": "execute_result"
    }
   ],
   "source": [
    "df.Location.unique()"
   ]
  },
  {
   "cell_type": "code",
   "execution_count": 29,
   "id": "ef74e6a3",
   "metadata": {},
   "outputs": [
    {
     "data": {
      "text/plain": [
       "65"
      ]
     },
     "execution_count": 29,
     "metadata": {},
     "output_type": "execute_result"
    }
   ],
   "source": [
    "\n",
    "df.Location.nunique()"
   ]
  },
  {
   "cell_type": "code",
   "execution_count": 30,
   "id": "0d75939b",
   "metadata": {},
   "outputs": [],
   "source": [
    "Area=lambda a:a.split(',')[-1].lstrip(' ')"
   ]
  },
  {
   "cell_type": "code",
   "execution_count": 31,
   "id": "e5244d9c",
   "metadata": {},
   "outputs": [],
   "source": [
    "df['Area']=df[\"Location\"].apply(Area)"
   ]
  },
  {
   "cell_type": "code",
   "execution_count": 32,
   "id": "03970712",
   "metadata": {},
   "outputs": [
    {
     "data": {
      "text/html": [
       "<div>\n",
       "<style scoped>\n",
       "    .dataframe tbody tr th:only-of-type {\n",
       "        vertical-align: middle;\n",
       "    }\n",
       "\n",
       "    .dataframe tbody tr th {\n",
       "        vertical-align: top;\n",
       "    }\n",
       "\n",
       "    .dataframe thead th {\n",
       "        text-align: right;\n",
       "    }\n",
       "</style>\n",
       "<table border=\"1\" class=\"dataframe\">\n",
       "  <thead>\n",
       "    <tr style=\"text-align: right;\">\n",
       "      <th></th>\n",
       "      <th>Shop_Name</th>\n",
       "      <th>Cuisine</th>\n",
       "      <th>Location</th>\n",
       "      <th>Rating</th>\n",
       "      <th>Cost_for_Two</th>\n",
       "      <th>Area</th>\n",
       "    </tr>\n",
       "  </thead>\n",
       "  <tbody>\n",
       "    <tr>\n",
       "      <th>0</th>\n",
       "      <td>Kanti Sweets</td>\n",
       "      <td>Sweets</td>\n",
       "      <td>Koramangala, Koramangala</td>\n",
       "      <td>4.3</td>\n",
       "      <td>150</td>\n",
       "      <td>Koramangala</td>\n",
       "    </tr>\n",
       "    <tr>\n",
       "      <th>1</th>\n",
       "      <td>Mumbai Tiffin</td>\n",
       "      <td>North Indian, Home Food, Thalis, Combo</td>\n",
       "      <td>Sector 5, HSR</td>\n",
       "      <td>4.4</td>\n",
       "      <td>400</td>\n",
       "      <td>HSR</td>\n",
       "    </tr>\n",
       "    <tr>\n",
       "      <th>2</th>\n",
       "      <td>Sri Krishna sagar</td>\n",
       "      <td>South Indian, North Indian, Fast Food, Beverag...</td>\n",
       "      <td>6th Block, Koramangala</td>\n",
       "      <td>4.1</td>\n",
       "      <td>126</td>\n",
       "      <td>Koramangala</td>\n",
       "    </tr>\n",
       "    <tr>\n",
       "      <th>3</th>\n",
       "      <td>Al Daaz</td>\n",
       "      <td>American, Arabian, Chinese, Desserts, Fast Foo...</td>\n",
       "      <td>HSR, HSR</td>\n",
       "      <td>4.4</td>\n",
       "      <td>400</td>\n",
       "      <td>HSR</td>\n",
       "    </tr>\n",
       "    <tr>\n",
       "      <th>4</th>\n",
       "      <td>Beijing Bites</td>\n",
       "      <td>Chinese, Thai</td>\n",
       "      <td>5th Block, Koramangala</td>\n",
       "      <td>4.1</td>\n",
       "      <td>450</td>\n",
       "      <td>Koramangala</td>\n",
       "    </tr>\n",
       "  </tbody>\n",
       "</table>\n",
       "</div>"
      ],
      "text/plain": [
       "           Shop_Name                                            Cuisine  \\\n",
       "0       Kanti Sweets                                             Sweets   \n",
       "1      Mumbai Tiffin             North Indian, Home Food, Thalis, Combo   \n",
       "2  Sri Krishna sagar  South Indian, North Indian, Fast Food, Beverag...   \n",
       "3            Al Daaz  American, Arabian, Chinese, Desserts, Fast Foo...   \n",
       "4      Beijing Bites                                      Chinese, Thai   \n",
       "\n",
       "                   Location  Rating  Cost_for_Two         Area  \n",
       "0  Koramangala, Koramangala     4.3           150  Koramangala  \n",
       "1             Sector 5, HSR     4.4           400          HSR  \n",
       "2    6th Block, Koramangala     4.1           126  Koramangala  \n",
       "3                  HSR, HSR     4.4           400          HSR  \n",
       "4    5th Block, Koramangala     4.1           450  Koramangala  "
      ]
     },
     "execution_count": 32,
     "metadata": {},
     "output_type": "execute_result"
    }
   ],
   "source": [
    "df.head()"
   ]
  },
  {
   "cell_type": "code",
   "execution_count": 33,
   "id": "8a454262",
   "metadata": {},
   "outputs": [],
   "source": [
    "df.to_csv('swiggy_data.csv')"
   ]
  },
  {
   "cell_type": "code",
   "execution_count": 34,
   "id": "c39b8c1f",
   "metadata": {},
   "outputs": [
    {
     "data": {
      "text/plain": [
       "array(['Koramangala', 'HSR', 'BTM', 'Jayanagar'], dtype=object)"
      ]
     },
     "execution_count": 34,
     "metadata": {},
     "output_type": "execute_result"
    }
   ],
   "source": [
    "df.Area.unique()"
   ]
  },
  {
   "cell_type": "markdown",
   "id": "04061a1d",
   "metadata": {},
   "source": [
    "## Number of Shop in Each Area"
   ]
  },
  {
   "cell_type": "code",
   "execution_count": 35,
   "id": "b409e2b9",
   "metadata": {},
   "outputs": [
    {
     "data": {
      "image/png": "[encoded data removed]",
      "text/plain": [
       "<Figure size 576x432 with 1 Axes>"
      ]
     },
     "metadata": {
      "needs_background": "light"
     },
     "output_type": "display_data"
    }
   ],
   "source": [
    "## Plot a countplot to see how many shops are there in each area.\n",
    "plt.figure(figsize=(8,6))\n",
    "plt.title('Number of Shop', fontsize=24)\n",
    "sns.countplot(x = 'Area', data = df, order = df['Area'].value_counts().index, palette='magma')\n",
    "plt.show()"
   ]
  },
  {
   "cell_type": "markdown",
   "id": "d9619ee5",
   "metadata": {},
   "source": [
    "#### Koramangala Area have highest number of Restaurants"
   ]
  },
  {
   "cell_type": "markdown",
   "id": "04a04aef",
   "metadata": {},
   "source": [
    "# Koramangala"
   ]
  },
  {
   "cell_type": "code",
   "execution_count": 36,
   "id": "517ceb11",
   "metadata": {},
   "outputs": [],
   "source": [
    "df_koramangala=df[df['Area']=='Koramangala']"
   ]
  },
  {
   "cell_type": "code",
   "execution_count": 37,
   "id": "8015b0c3",
   "metadata": {},
   "outputs": [
    {
     "data": {
      "text/html": [
       "<div>\n",
       "<style scoped>\n",
       "    .dataframe tbody tr th:only-of-type {\n",
       "        vertical-align: middle;\n",
       "    }\n",
       "\n",
       "    .dataframe tbody tr th {\n",
       "        vertical-align: top;\n",
       "    }\n",
       "\n",
       "    .dataframe thead th {\n",
       "        text-align: right;\n",
       "    }\n",
       "</style>\n",
       "<table border=\"1\" class=\"dataframe\">\n",
       "  <thead>\n",
       "    <tr style=\"text-align: right;\">\n",
       "      <th></th>\n",
       "      <th>Shop_Name</th>\n",
       "      <th>Cuisine</th>\n",
       "      <th>Location</th>\n",
       "      <th>Rating</th>\n",
       "      <th>Cost_for_Two</th>\n",
       "      <th>Area</th>\n",
       "    </tr>\n",
       "  </thead>\n",
       "  <tbody>\n",
       "    <tr>\n",
       "      <th>0</th>\n",
       "      <td>Kanti Sweets</td>\n",
       "      <td>Sweets</td>\n",
       "      <td>Koramangala, Koramangala</td>\n",
       "      <td>4.3</td>\n",
       "      <td>150</td>\n",
       "      <td>Koramangala</td>\n",
       "    </tr>\n",
       "    <tr>\n",
       "      <th>2</th>\n",
       "      <td>Sri Krishna sagar</td>\n",
       "      <td>South Indian, North Indian, Fast Food, Beverag...</td>\n",
       "      <td>6th Block, Koramangala</td>\n",
       "      <td>4.1</td>\n",
       "      <td>126</td>\n",
       "      <td>Koramangala</td>\n",
       "    </tr>\n",
       "    <tr>\n",
       "      <th>4</th>\n",
       "      <td>Beijing Bites</td>\n",
       "      <td>Chinese, Thai</td>\n",
       "      <td>5th Block, Koramangala</td>\n",
       "      <td>4.1</td>\n",
       "      <td>450</td>\n",
       "      <td>Koramangala</td>\n",
       "    </tr>\n",
       "    <tr>\n",
       "      <th>5</th>\n",
       "      <td>Kitchens of Punjab</td>\n",
       "      <td>North Indian</td>\n",
       "      <td>Koramangala 4th  Block, Koramangala</td>\n",
       "      <td>4.2</td>\n",
       "      <td>350</td>\n",
       "      <td>Koramangala</td>\n",
       "    </tr>\n",
       "    <tr>\n",
       "      <th>9</th>\n",
       "      <td>Yumlane Pizza</td>\n",
       "      <td>Pizzas, Italian, Mexican</td>\n",
       "      <td>9th Main road, Koramangala</td>\n",
       "      <td>3.8</td>\n",
       "      <td>150</td>\n",
       "      <td>Koramangala</td>\n",
       "    </tr>\n",
       "    <tr>\n",
       "      <th>...</th>\n",
       "      <td>...</td>\n",
       "      <td>...</td>\n",
       "      <td>...</td>\n",
       "      <td>...</td>\n",
       "      <td>...</td>\n",
       "      <td>...</td>\n",
       "    </tr>\n",
       "    <tr>\n",
       "      <th>112</th>\n",
       "      <td>Kritunga</td>\n",
       "      <td>Andhra, Biryani</td>\n",
       "      <td>5th Block, Koramangala</td>\n",
       "      <td>3.9</td>\n",
       "      <td>500</td>\n",
       "      <td>Koramangala</td>\n",
       "    </tr>\n",
       "    <tr>\n",
       "      <th>113</th>\n",
       "      <td>Wok Paper Scissors</td>\n",
       "      <td>Pan-Asian, Chinese, Asian</td>\n",
       "      <td>JNC Road, Koramangala</td>\n",
       "      <td>3.9</td>\n",
       "      <td>219</td>\n",
       "      <td>Koramangala</td>\n",
       "    </tr>\n",
       "    <tr>\n",
       "      <th>115</th>\n",
       "      <td>Royal Treat</td>\n",
       "      <td>North Indian, Chinese, Seafood, Biryani</td>\n",
       "      <td>5th block Koramangala, Koramangala</td>\n",
       "      <td>4.2</td>\n",
       "      <td>193</td>\n",
       "      <td>Koramangala</td>\n",
       "    </tr>\n",
       "    <tr>\n",
       "      <th>116</th>\n",
       "      <td>Thali 99</td>\n",
       "      <td>North Indian</td>\n",
       "      <td>Koramangala, Koramangala</td>\n",
       "      <td>4.3</td>\n",
       "      <td>200</td>\n",
       "      <td>Koramangala</td>\n",
       "    </tr>\n",
       "    <tr>\n",
       "      <th>117</th>\n",
       "      <td>Mani's Dum Biryani</td>\n",
       "      <td>Andhra, Biryani</td>\n",
       "      <td>1st Block, Koramangala</td>\n",
       "      <td>4.2</td>\n",
       "      <td>400</td>\n",
       "      <td>Koramangala</td>\n",
       "    </tr>\n",
       "  </tbody>\n",
       "</table>\n",
       "<p>64 rows × 6 columns</p>\n",
       "</div>"
      ],
      "text/plain": [
       "              Shop_Name                                            Cuisine  \\\n",
       "0          Kanti Sweets                                             Sweets   \n",
       "2     Sri Krishna sagar  South Indian, North Indian, Fast Food, Beverag...   \n",
       "4         Beijing Bites                                      Chinese, Thai   \n",
       "5    Kitchens of Punjab                                       North Indian   \n",
       "9         Yumlane Pizza                           Pizzas, Italian, Mexican   \n",
       "..                  ...                                                ...   \n",
       "112            Kritunga                                    Andhra, Biryani   \n",
       "113  Wok Paper Scissors                          Pan-Asian, Chinese, Asian   \n",
       "115         Royal Treat            North Indian, Chinese, Seafood, Biryani   \n",
       "116            Thali 99                                       North Indian   \n",
       "117  Mani's Dum Biryani                                    Andhra, Biryani   \n",
       "\n",
       "                                Location  Rating  Cost_for_Two         Area  \n",
       "0               Koramangala, Koramangala     4.3           150  Koramangala  \n",
       "2                 6th Block, Koramangala     4.1           126  Koramangala  \n",
       "4                 5th Block, Koramangala     4.1           450  Koramangala  \n",
       "5    Koramangala 4th  Block, Koramangala     4.2           350  Koramangala  \n",
       "9             9th Main road, Koramangala     3.8           150  Koramangala  \n",
       "..                                   ...     ...           ...          ...  \n",
       "112               5th Block, Koramangala     3.9           500  Koramangala  \n",
       "113                JNC Road, Koramangala     3.9           219  Koramangala  \n",
       "115   5th block Koramangala, Koramangala     4.2           193  Koramangala  \n",
       "116             Koramangala, Koramangala     4.3           200  Koramangala  \n",
       "117               1st Block, Koramangala     4.2           400  Koramangala  \n",
       "\n",
       "[64 rows x 6 columns]"
      ]
     },
     "execution_count": 37,
     "metadata": {},
     "output_type": "execute_result"
    }
   ],
   "source": [
    "df_koramangala"
   ]
  },
  {
   "cell_type": "code",
   "execution_count": 38,
   "id": "dea15cb2",
   "metadata": {},
   "outputs": [
    {
     "data": {
      "text/plain": [
       "Rating            4.1\n",
       "Cost_for_Two    254.0\n",
       "dtype: float64"
      ]
     },
     "execution_count": 38,
     "metadata": {},
     "output_type": "execute_result"
    }
   ],
   "source": [
    "df_koramangala.median()"
   ]
  },
  {
   "cell_type": "code",
   "execution_count": 39,
   "id": "618ebc96",
   "metadata": {},
   "outputs": [
    {
     "data": {
      "image/png": "[encoded data removed]",
      "text/plain": [
       "<Figure size 432x288 with 1 Axes>"
      ]
     },
     "metadata": {},
     "output_type": "display_data"
    }
   ],
   "source": [
    "plt.style.use('fivethirtyeight')\n",
    "bins1=[3.00,3.50,3.75,4.00,4.25,4.50,4.75,5.00]\n",
    "plt.hist(df_koramangala['Rating'], bins=bins1, edgecolor='black')\n",
    "median_rating =4.1\n",
    "color = '#fc4f30'\n",
    "plt.axvline(median_rating, color=color, label='Median Rating', linewidth=2)\n",
    "\n",
    "plt.legend()\n",
    "\n",
    "plt.title('Rating analysis')\n",
    "plt.xlabel('Rating')\n",
    "plt.ylabel('Total number of Restaurants')\n",
    "\n",
    "plt.tight_layout()\n",
    "plt.show()"
   ]
  },
  {
   "cell_type": "code",
   "execution_count": 40,
   "id": "ff470d9c",
   "metadata": {},
   "outputs": [
    {
     "data": {
      "image/png": "[encoded data removed]",
      "text/plain": [
       "<Figure size 432x288 with 1 Axes>"
      ]
     },
     "metadata": {},
     "output_type": "display_data"
    }
   ],
   "source": [
    "plt.style.use('fivethirtyeight')\n",
    "bins=[100,200,300,400,500,600,700,800,900]\n",
    "plt.hist(df_koramangala['Cost_for_Two'], bins=bins, edgecolor='black')\n",
    "median_cost =254\n",
    "color = '#fc4f30'\n",
    "\n",
    "plt.axvline(median_cost, color=color, label='Cost for Two Median', linewidth=2)\n",
    "\n",
    "plt.legend()\n",
    "\n",
    "plt.title('Cost_for_two Analysis')\n",
    "plt.xlabel('Cost_for_two')\n",
    "plt.ylabel('Total number of Restaurants')\n",
    "\n",
    "plt.tight_layout()\n",
    "plt.show()"
   ]
  },
  {
   "cell_type": "markdown",
   "id": "47e4c97f",
   "metadata": {},
   "source": [
    "# HSR"
   ]
  },
  {
   "cell_type": "code",
   "execution_count": 41,
   "id": "94df3d63",
   "metadata": {},
   "outputs": [],
   "source": [
    "df_hsr=df[df['Area']=='HSR']"
   ]
  },
  {
   "cell_type": "code",
   "execution_count": 42,
   "id": "9910b7ad",
   "metadata": {},
   "outputs": [
    {
     "data": {
      "text/html": [
       "<div>\n",
       "<style scoped>\n",
       "    .dataframe tbody tr th:only-of-type {\n",
       "        vertical-align: middle;\n",
       "    }\n",
       "\n",
       "    .dataframe tbody tr th {\n",
       "        vertical-align: top;\n",
       "    }\n",
       "\n",
       "    .dataframe thead th {\n",
       "        text-align: right;\n",
       "    }\n",
       "</style>\n",
       "<table border=\"1\" class=\"dataframe\">\n",
       "  <thead>\n",
       "    <tr style=\"text-align: right;\">\n",
       "      <th></th>\n",
       "      <th>Shop_Name</th>\n",
       "      <th>Cuisine</th>\n",
       "      <th>Location</th>\n",
       "      <th>Rating</th>\n",
       "      <th>Cost_for_Two</th>\n",
       "      <th>Area</th>\n",
       "    </tr>\n",
       "  </thead>\n",
       "  <tbody>\n",
       "    <tr>\n",
       "      <th>1</th>\n",
       "      <td>Mumbai Tiffin</td>\n",
       "      <td>North Indian, Home Food, Thalis, Combo</td>\n",
       "      <td>Sector 5, HSR</td>\n",
       "      <td>4.4</td>\n",
       "      <td>400</td>\n",
       "      <td>HSR</td>\n",
       "    </tr>\n",
       "    <tr>\n",
       "      <th>3</th>\n",
       "      <td>Al Daaz</td>\n",
       "      <td>American, Arabian, Chinese, Desserts, Fast Foo...</td>\n",
       "      <td>HSR, HSR</td>\n",
       "      <td>4.4</td>\n",
       "      <td>400</td>\n",
       "      <td>HSR</td>\n",
       "    </tr>\n",
       "    <tr>\n",
       "      <th>8</th>\n",
       "      <td>Hotel Manu</td>\n",
       "      <td>South Indian, Kerala, Chinese, North Indian</td>\n",
       "      <td>HSR, HSR</td>\n",
       "      <td>4.1</td>\n",
       "      <td>350</td>\n",
       "      <td>HSR</td>\n",
       "    </tr>\n",
       "    <tr>\n",
       "      <th>19</th>\n",
       "      <td>Shree Khana Khazana</td>\n",
       "      <td>Indian, Rajasthani</td>\n",
       "      <td>Sector 4, HSR</td>\n",
       "      <td>4.1</td>\n",
       "      <td>350</td>\n",
       "      <td>HSR</td>\n",
       "    </tr>\n",
       "    <tr>\n",
       "      <th>24</th>\n",
       "      <td>New Udupi Grand</td>\n",
       "      <td>Chinese, Jain, North Indian, South Indian</td>\n",
       "      <td>HSR, HSR</td>\n",
       "      <td>4.3</td>\n",
       "      <td>150</td>\n",
       "      <td>HSR</td>\n",
       "    </tr>\n",
       "    <tr>\n",
       "      <th>36</th>\n",
       "      <td>Biriyani Zone</td>\n",
       "      <td>North Indian, Chinese, Biryani</td>\n",
       "      <td>HSR 1st sector, HSR</td>\n",
       "      <td>4.1</td>\n",
       "      <td>600</td>\n",
       "      <td>HSR</td>\n",
       "    </tr>\n",
       "    <tr>\n",
       "      <th>37</th>\n",
       "      <td>Gongura's</td>\n",
       "      <td>North Indian, Chinese, Biryani</td>\n",
       "      <td>Sector 7, HSR</td>\n",
       "      <td>3.8</td>\n",
       "      <td>300</td>\n",
       "      <td>HSR</td>\n",
       "    </tr>\n",
       "    <tr>\n",
       "      <th>39</th>\n",
       "      <td>Leon Grill</td>\n",
       "      <td>Turkish, Portuguese, American</td>\n",
       "      <td>3rd Sector, HSR</td>\n",
       "      <td>4.3</td>\n",
       "      <td>300</td>\n",
       "      <td>HSR</td>\n",
       "    </tr>\n",
       "    <tr>\n",
       "      <th>41</th>\n",
       "      <td>Cakewala</td>\n",
       "      <td>Desserts</td>\n",
       "      <td>HSR, HSR</td>\n",
       "      <td>4.3</td>\n",
       "      <td>450</td>\n",
       "      <td>HSR</td>\n",
       "    </tr>\n",
       "    <tr>\n",
       "      <th>57</th>\n",
       "      <td>Donne Biriyani House</td>\n",
       "      <td>South Indian</td>\n",
       "      <td>3rd sector, HSR</td>\n",
       "      <td>4.0</td>\n",
       "      <td>300</td>\n",
       "      <td>HSR</td>\n",
       "    </tr>\n",
       "    <tr>\n",
       "      <th>58</th>\n",
       "      <td>Nanda's</td>\n",
       "      <td>Andhra, Biryani</td>\n",
       "      <td>HSR, HSR</td>\n",
       "      <td>4.0</td>\n",
       "      <td>400</td>\n",
       "      <td>HSR</td>\n",
       "    </tr>\n",
       "    <tr>\n",
       "      <th>61</th>\n",
       "      <td>Cake Garden</td>\n",
       "      <td>Desserts, Bakery</td>\n",
       "      <td>HSR, HSR</td>\n",
       "      <td>3.9</td>\n",
       "      <td>250</td>\n",
       "      <td>HSR</td>\n",
       "    </tr>\n",
       "    <tr>\n",
       "      <th>71</th>\n",
       "      <td>Nizams Biryani</td>\n",
       "      <td>Biryani, Juices, Kebabs</td>\n",
       "      <td>Venkatapura Main Rd, Teacher's Colony, Jakkasa...</td>\n",
       "      <td>3.6</td>\n",
       "      <td>200</td>\n",
       "      <td>HSR</td>\n",
       "    </tr>\n",
       "    <tr>\n",
       "      <th>73</th>\n",
       "      <td>Punjabi Rasoi</td>\n",
       "      <td>North Indian</td>\n",
       "      <td>Sector 3, HSR</td>\n",
       "      <td>4.0</td>\n",
       "      <td>800</td>\n",
       "      <td>HSR</td>\n",
       "    </tr>\n",
       "    <tr>\n",
       "      <th>99</th>\n",
       "      <td>Dindigul Thalapakatti Biriyani</td>\n",
       "      <td>North Indian</td>\n",
       "      <td>HSR, HSR</td>\n",
       "      <td>4.1</td>\n",
       "      <td>650</td>\n",
       "      <td>HSR</td>\n",
       "    </tr>\n",
       "    <tr>\n",
       "      <th>101</th>\n",
       "      <td>Easy Bites</td>\n",
       "      <td>Snacks, American</td>\n",
       "      <td>9th Main Rd, Sector 6, HSR Layout, HSR</td>\n",
       "      <td>3.8</td>\n",
       "      <td>200</td>\n",
       "      <td>HSR</td>\n",
       "    </tr>\n",
       "    <tr>\n",
       "      <th>107</th>\n",
       "      <td>Junior Kuppanna</td>\n",
       "      <td>Chettinad, South Indian</td>\n",
       "      <td>Sector 6, HSR</td>\n",
       "      <td>4.0</td>\n",
       "      <td>550</td>\n",
       "      <td>HSR</td>\n",
       "    </tr>\n",
       "  </tbody>\n",
       "</table>\n",
       "</div>"
      ],
      "text/plain": [
       "                          Shop_Name  \\\n",
       "1                     Mumbai Tiffin   \n",
       "3                           Al Daaz   \n",
       "8                        Hotel Manu   \n",
       "19              Shree Khana Khazana   \n",
       "24                  New Udupi Grand   \n",
       "36                    Biriyani Zone   \n",
       "37                        Gongura's   \n",
       "39                       Leon Grill   \n",
       "41                         Cakewala   \n",
       "57             Donne Biriyani House   \n",
       "58                          Nanda's   \n",
       "61                      Cake Garden   \n",
       "71                   Nizams Biryani   \n",
       "73                    Punjabi Rasoi   \n",
       "99   Dindigul Thalapakatti Biriyani   \n",
       "101                      Easy Bites   \n",
       "107                 Junior Kuppanna   \n",
       "\n",
       "                                               Cuisine  \\\n",
       "1               North Indian, Home Food, Thalis, Combo   \n",
       "3    American, Arabian, Chinese, Desserts, Fast Foo...   \n",
       "8          South Indian, Kerala, Chinese, North Indian   \n",
       "19                                  Indian, Rajasthani   \n",
       "24           Chinese, Jain, North Indian, South Indian   \n",
       "36                      North Indian, Chinese, Biryani   \n",
       "37                      North Indian, Chinese, Biryani   \n",
       "39                       Turkish, Portuguese, American   \n",
       "41                                            Desserts   \n",
       "57                                        South Indian   \n",
       "58                                     Andhra, Biryani   \n",
       "61                                    Desserts, Bakery   \n",
       "71                             Biryani, Juices, Kebabs   \n",
       "73                                        North Indian   \n",
       "99                                        North Indian   \n",
       "101                                   Snacks, American   \n",
       "107                            Chettinad, South Indian   \n",
       "\n",
       "                                              Location  Rating  Cost_for_Two  \\\n",
       "1                                        Sector 5, HSR     4.4           400   \n",
       "3                                             HSR, HSR     4.4           400   \n",
       "8                                             HSR, HSR     4.1           350   \n",
       "19                                       Sector 4, HSR     4.1           350   \n",
       "24                                            HSR, HSR     4.3           150   \n",
       "36                                 HSR 1st sector, HSR     4.1           600   \n",
       "37                                       Sector 7, HSR     3.8           300   \n",
       "39                                     3rd Sector, HSR     4.3           300   \n",
       "41                                            HSR, HSR     4.3           450   \n",
       "57                                     3rd sector, HSR     4.0           300   \n",
       "58                                            HSR, HSR     4.0           400   \n",
       "61                                            HSR, HSR     3.9           250   \n",
       "71   Venkatapura Main Rd, Teacher's Colony, Jakkasa...     3.6           200   \n",
       "73                                       Sector 3, HSR     4.0           800   \n",
       "99                                            HSR, HSR     4.1           650   \n",
       "101             9th Main Rd, Sector 6, HSR Layout, HSR     3.8           200   \n",
       "107                                      Sector 6, HSR     4.0           550   \n",
       "\n",
       "    Area  \n",
       "1    HSR  \n",
       "3    HSR  \n",
       "8    HSR  \n",
       "19   HSR  \n",
       "24   HSR  \n",
       "36   HSR  \n",
       "37   HSR  \n",
       "39   HSR  \n",
       "41   HSR  \n",
       "57   HSR  \n",
       "58   HSR  \n",
       "61   HSR  \n",
       "71   HSR  \n",
       "73   HSR  \n",
       "99   HSR  \n",
       "101  HSR  \n",
       "107  HSR  "
      ]
     },
     "execution_count": 42,
     "metadata": {},
     "output_type": "execute_result"
    }
   ],
   "source": [
    "df_hsr"
   ]
  },
  {
   "cell_type": "code",
   "execution_count": 43,
   "id": "0a95d9a5",
   "metadata": {},
   "outputs": [
    {
     "data": {
      "image/png": "[encoded data removed]",
      "text/plain": [
       "<Figure size 432x288 with 1 Axes>"
      ]
     },
     "metadata": {},
     "output_type": "display_data"
    }
   ],
   "source": [
    "plt.style.use('fivethirtyeight')\n",
    "bins=[3.00,3.50,3.75,4.00,4.25,4.50,4.75,5.00]\n",
    "plt.hist(df_hsr['Rating'], bins=bins, edgecolor='black')\n",
    "median_rating =4.1\n",
    "color = '#fc4f30'\n",
    "plt.axvline(median_rating, color=color, label='Median Rating', linewidth=2)\n",
    "\n",
    "plt.legend()\n",
    "\n",
    "plt.title('Rating analysis')\n",
    "plt.xlabel('Rating')\n",
    "plt.ylabel('Total number of Restaurants')\n",
    "\n",
    "plt.tight_layout()\n",
    "plt.show()"
   ]
  },
  {
   "cell_type": "code",
   "execution_count": 44,
   "id": "23b5b411",
   "metadata": {},
   "outputs": [
    {
     "data": {
      "image/png": "[encoded data removed]",
      "text/plain": [
       "<Figure size 432x288 with 1 Axes>"
      ]
     },
     "metadata": {},
     "output_type": "display_data"
    }
   ],
   "source": [
    "plt.style.use('fivethirtyeight')\n",
    "bins=[100,200,300,400,500,600,700,800,900]\n",
    "plt.hist(df_hsr['Cost_for_Two'], bins=bins, edgecolor='black')\n",
    "median_cost =350.0\n",
    "color = '#fc4f30'\n",
    "\n",
    "plt.axvline(median_cost, color=color, label='Cost for Two Median', linewidth=2)\n",
    "\n",
    "plt.legend()\n",
    "\n",
    "plt.title('Cost_for_two Analysis')\n",
    "plt.xlabel('Cost_for_two')\n",
    "plt.ylabel('Total number of Restaurants')\n",
    "\n",
    "plt.tight_layout()\n",
    "plt.show()"
   ]
  },
  {
   "cell_type": "code",
   "execution_count": 45,
   "id": "e372608c",
   "metadata": {},
   "outputs": [
    {
     "data": {
      "text/plain": [
       "Rating            4.1\n",
       "Cost_for_Two    350.0\n",
       "dtype: float64"
      ]
     },
     "execution_count": 45,
     "metadata": {},
     "output_type": "execute_result"
    }
   ],
   "source": [
    "df_hsr.median()"
   ]
  },
  {
   "cell_type": "markdown",
   "id": "9f31b4eb",
   "metadata": {},
   "source": [
    "# BTM"
   ]
  },
  {
   "cell_type": "code",
   "execution_count": 46,
   "id": "695b5820",
   "metadata": {},
   "outputs": [],
   "source": [
    "df_btm=df[df['Area']=='BTM']"
   ]
  },
  {
   "cell_type": "code",
   "execution_count": 47,
   "id": "6323bdd4",
   "metadata": {},
   "outputs": [
    {
     "data": {
      "text/html": [
       "<div>\n",
       "<style scoped>\n",
       "    .dataframe tbody tr th:only-of-type {\n",
       "        vertical-align: middle;\n",
       "    }\n",
       "\n",
       "    .dataframe tbody tr th {\n",
       "        vertical-align: top;\n",
       "    }\n",
       "\n",
       "    .dataframe thead th {\n",
       "        text-align: right;\n",
       "    }\n",
       "</style>\n",
       "<table border=\"1\" class=\"dataframe\">\n",
       "  <thead>\n",
       "    <tr style=\"text-align: right;\">\n",
       "      <th></th>\n",
       "      <th>Shop_Name</th>\n",
       "      <th>Cuisine</th>\n",
       "      <th>Location</th>\n",
       "      <th>Rating</th>\n",
       "      <th>Cost_for_Two</th>\n",
       "      <th>Area</th>\n",
       "    </tr>\n",
       "  </thead>\n",
       "  <tbody>\n",
       "    <tr>\n",
       "      <th>6</th>\n",
       "      <td>99 VARIETY DOSA AND PAV BHAJI- Malli Mane Food...</td>\n",
       "      <td>Fast Food, North Indian, Chinese</td>\n",
       "      <td>BTM 2nd Stage, BTM</td>\n",
       "      <td>4.1</td>\n",
       "      <td>200</td>\n",
       "      <td>BTM</td>\n",
       "    </tr>\n",
       "    <tr>\n",
       "      <th>7</th>\n",
       "      <td>La Pino'z Pizza</td>\n",
       "      <td>Italian</td>\n",
       "      <td>BTM, BTM</td>\n",
       "      <td>3.9</td>\n",
       "      <td>500</td>\n",
       "      <td>BTM</td>\n",
       "    </tr>\n",
       "    <tr>\n",
       "      <th>10</th>\n",
       "      <td>Ambur Star Briyani</td>\n",
       "      <td>Chinese, South Indian, North Indian, Desserts,...</td>\n",
       "      <td>outer ring road, BTM</td>\n",
       "      <td>4.1</td>\n",
       "      <td>500</td>\n",
       "      <td>BTM</td>\n",
       "    </tr>\n",
       "    <tr>\n",
       "      <th>17</th>\n",
       "      <td>Sri Lakshmi Dhaba</td>\n",
       "      <td>North Indian</td>\n",
       "      <td>Bommanahalli, BTM</td>\n",
       "      <td>3.7</td>\n",
       "      <td>200</td>\n",
       "      <td>BTM</td>\n",
       "    </tr>\n",
       "    <tr>\n",
       "      <th>20</th>\n",
       "      <td>Just Bake - Cakes &amp; confectioners</td>\n",
       "      <td>Desserts, Bakery</td>\n",
       "      <td>BTM 1st stage, BTM</td>\n",
       "      <td>4.3</td>\n",
       "      <td>300</td>\n",
       "      <td>BTM</td>\n",
       "    </tr>\n",
       "    <tr>\n",
       "      <th>22</th>\n",
       "      <td>Hotel Godavari</td>\n",
       "      <td>North Indian, Chinese, Hyderabadi</td>\n",
       "      <td>Marutinagar Main Road, BTM</td>\n",
       "      <td>4.0</td>\n",
       "      <td>400</td>\n",
       "      <td>BTM</td>\n",
       "    </tr>\n",
       "    <tr>\n",
       "      <th>25</th>\n",
       "      <td>Swad Punjab da</td>\n",
       "      <td>Indian</td>\n",
       "      <td>BTM, BTM</td>\n",
       "      <td>4.1</td>\n",
       "      <td>250</td>\n",
       "      <td>BTM</td>\n",
       "    </tr>\n",
       "    <tr>\n",
       "      <th>27</th>\n",
       "      <td>High N Hungry</td>\n",
       "      <td>Andhra, Biryani, Chinese, Desserts, Fast Food,...</td>\n",
       "      <td>4th Cross, BTM</td>\n",
       "      <td>4.1</td>\n",
       "      <td>350</td>\n",
       "      <td>BTM</td>\n",
       "    </tr>\n",
       "    <tr>\n",
       "      <th>31</th>\n",
       "      <td>Bengali Fun Foods</td>\n",
       "      <td>North Indian</td>\n",
       "      <td>BTM 2nd stage, BTM</td>\n",
       "      <td>4.2</td>\n",
       "      <td>300</td>\n",
       "      <td>BTM</td>\n",
       "    </tr>\n",
       "    <tr>\n",
       "      <th>33</th>\n",
       "      <td>Oottupura</td>\n",
       "      <td>Kerala, South Indian</td>\n",
       "      <td>BTM, BTM</td>\n",
       "      <td>4.3</td>\n",
       "      <td>268</td>\n",
       "      <td>BTM</td>\n",
       "    </tr>\n",
       "    <tr>\n",
       "      <th>35</th>\n",
       "      <td>Hyderabadi Biryani Hub</td>\n",
       "      <td>North Indian, Chinese, Biryani</td>\n",
       "      <td>3rd main, BTM</td>\n",
       "      <td>3.9</td>\n",
       "      <td>450</td>\n",
       "      <td>BTM</td>\n",
       "    </tr>\n",
       "    <tr>\n",
       "      <th>40</th>\n",
       "      <td>Venu's Donne Biryani</td>\n",
       "      <td>Biryani</td>\n",
       "      <td>Chocolate Factory Road, BTM</td>\n",
       "      <td>4.3</td>\n",
       "      <td>300</td>\n",
       "      <td>BTM</td>\n",
       "    </tr>\n",
       "    <tr>\n",
       "      <th>42</th>\n",
       "      <td>Swadista Aahar</td>\n",
       "      <td>South Indian, Snacks, North Indian, Chinese</td>\n",
       "      <td>16th Main Road, 2nd Stage, BTM</td>\n",
       "      <td>4.1</td>\n",
       "      <td>250</td>\n",
       "      <td>BTM</td>\n",
       "    </tr>\n",
       "    <tr>\n",
       "      <th>44</th>\n",
       "      <td>Svadu Pure Ghee Sweets</td>\n",
       "      <td>Desserts, Fast Food, Sweets, Chaat</td>\n",
       "      <td>1st Stage, BTM</td>\n",
       "      <td>4.1</td>\n",
       "      <td>200</td>\n",
       "      <td>BTM</td>\n",
       "    </tr>\n",
       "    <tr>\n",
       "      <th>45</th>\n",
       "      <td>Sai Abhiruchi</td>\n",
       "      <td>Chinese, South Indian, Andhra, Hyderabadi</td>\n",
       "      <td>BTM, BTM</td>\n",
       "      <td>3.7</td>\n",
       "      <td>250</td>\n",
       "      <td>BTM</td>\n",
       "    </tr>\n",
       "    <tr>\n",
       "      <th>49</th>\n",
       "      <td>Balaji's Veg</td>\n",
       "      <td>North Indian, Chinese, South Indian</td>\n",
       "      <td>Mico Layout, BTM</td>\n",
       "      <td>4.1</td>\n",
       "      <td>300</td>\n",
       "      <td>BTM</td>\n",
       "    </tr>\n",
       "    <tr>\n",
       "      <th>51</th>\n",
       "      <td>Donne Biryani Mandi</td>\n",
       "      <td>Biryani, Andhra, South Indian</td>\n",
       "      <td>BTM, BTM</td>\n",
       "      <td>4.0</td>\n",
       "      <td>150</td>\n",
       "      <td>BTM</td>\n",
       "    </tr>\n",
       "    <tr>\n",
       "      <th>60</th>\n",
       "      <td>calicut cafe restaurant</td>\n",
       "      <td>Fast Food, Beverages</td>\n",
       "      <td>BTM, BTM</td>\n",
       "      <td>4.1</td>\n",
       "      <td>280</td>\n",
       "      <td>BTM</td>\n",
       "    </tr>\n",
       "    <tr>\n",
       "      <th>65</th>\n",
       "      <td>World of asia</td>\n",
       "      <td>Beverages, Chinese</td>\n",
       "      <td>BTM, BTM</td>\n",
       "      <td>4.0</td>\n",
       "      <td>250</td>\n",
       "      <td>BTM</td>\n",
       "    </tr>\n",
       "    <tr>\n",
       "      <th>66</th>\n",
       "      <td>Ghar Ka Khana</td>\n",
       "      <td>North Indian</td>\n",
       "      <td>BTM, BTM</td>\n",
       "      <td>4.2</td>\n",
       "      <td>220</td>\n",
       "      <td>BTM</td>\n",
       "    </tr>\n",
       "    <tr>\n",
       "      <th>68</th>\n",
       "      <td>KANNUR FOOD POINT</td>\n",
       "      <td>Kerala, Chinese</td>\n",
       "      <td>SG palaya, BTM</td>\n",
       "      <td>3.9</td>\n",
       "      <td>300</td>\n",
       "      <td>BTM</td>\n",
       "    </tr>\n",
       "    <tr>\n",
       "      <th>69</th>\n",
       "      <td>KANNOOR RESTAURANT</td>\n",
       "      <td>North Indian, Chinese</td>\n",
       "      <td>BTM, BTM</td>\n",
       "      <td>4.0</td>\n",
       "      <td>250</td>\n",
       "      <td>BTM</td>\n",
       "    </tr>\n",
       "    <tr>\n",
       "      <th>70</th>\n",
       "      <td>Fattoush</td>\n",
       "      <td>Arabian, Beverages, Biryani, Chinese, Desserts...</td>\n",
       "      <td>BTM, BTM</td>\n",
       "      <td>3.9</td>\n",
       "      <td>400</td>\n",
       "      <td>BTM</td>\n",
       "    </tr>\n",
       "    <tr>\n",
       "      <th>76</th>\n",
       "      <td>BIRIYANI TASTE MASTH(BTM)</td>\n",
       "      <td>North Indian, South Indian</td>\n",
       "      <td>Btm, BTM</td>\n",
       "      <td>4.2</td>\n",
       "      <td>300</td>\n",
       "      <td>BTM</td>\n",
       "    </tr>\n",
       "    <tr>\n",
       "      <th>79</th>\n",
       "      <td>Tandoori Merchant</td>\n",
       "      <td>Andhra, Biryani, Chinese, Desserts, Fast Food,...</td>\n",
       "      <td>4th Cross, BTM</td>\n",
       "      <td>4.2</td>\n",
       "      <td>100</td>\n",
       "      <td>BTM</td>\n",
       "    </tr>\n",
       "    <tr>\n",
       "      <th>80</th>\n",
       "      <td>Chinese Bae</td>\n",
       "      <td>Chinese, Thai</td>\n",
       "      <td>BTM, BTM</td>\n",
       "      <td>4.5</td>\n",
       "      <td>450</td>\n",
       "      <td>BTM</td>\n",
       "    </tr>\n",
       "    <tr>\n",
       "      <th>83</th>\n",
       "      <td>Abhiruchi Hotel</td>\n",
       "      <td>Chinese, Hyderabadi, Biryani, Indian, South In...</td>\n",
       "      <td>BTM, BTM</td>\n",
       "      <td>4.0</td>\n",
       "      <td>250</td>\n",
       "      <td>BTM</td>\n",
       "    </tr>\n",
       "    <tr>\n",
       "      <th>84</th>\n",
       "      <td>Punjabi Swag</td>\n",
       "      <td>Punjabi, North Indian, Chinese, Fast Food, Hea...</td>\n",
       "      <td>16th Main Road, BTM</td>\n",
       "      <td>3.7</td>\n",
       "      <td>400</td>\n",
       "      <td>BTM</td>\n",
       "    </tr>\n",
       "    <tr>\n",
       "      <th>86</th>\n",
       "      <td>Gyaani Da Punjabi Dhaba</td>\n",
       "      <td>North Indian</td>\n",
       "      <td>2nd Stage, BTM</td>\n",
       "      <td>4.0</td>\n",
       "      <td>500</td>\n",
       "      <td>BTM</td>\n",
       "    </tr>\n",
       "    <tr>\n",
       "      <th>87</th>\n",
       "      <td>Biriyani Bhatti</td>\n",
       "      <td>Biryani, Hyderabadi, Andhra, North Indian, Sou...</td>\n",
       "      <td>Kuvempu Nagar, Stage 2, BTM</td>\n",
       "      <td>4.1</td>\n",
       "      <td>350</td>\n",
       "      <td>BTM</td>\n",
       "    </tr>\n",
       "    <tr>\n",
       "      <th>92</th>\n",
       "      <td>BIRYANI CRAFTS</td>\n",
       "      <td>Indian</td>\n",
       "      <td>BTM, BTM</td>\n",
       "      <td>4.1</td>\n",
       "      <td>500</td>\n",
       "      <td>BTM</td>\n",
       "    </tr>\n",
       "    <tr>\n",
       "      <th>104</th>\n",
       "      <td>R.B Food Point</td>\n",
       "      <td>Chinese, North Indian</td>\n",
       "      <td>Jay Bheema Nagar, BTM</td>\n",
       "      <td>3.7</td>\n",
       "      <td>350</td>\n",
       "      <td>BTM</td>\n",
       "    </tr>\n",
       "    <tr>\n",
       "      <th>106</th>\n",
       "      <td>New Tasty Cafeteria</td>\n",
       "      <td>Andhra, Chettinad, Chinese, Mughlai, North Indian</td>\n",
       "      <td>Maruthi Nagar, BTM</td>\n",
       "      <td>4.0</td>\n",
       "      <td>350</td>\n",
       "      <td>BTM</td>\n",
       "    </tr>\n",
       "    <tr>\n",
       "      <th>110</th>\n",
       "      <td>Biryani Pot</td>\n",
       "      <td>North Indian, Biryani</td>\n",
       "      <td>Madiwala Junction, BTM</td>\n",
       "      <td>4.0</td>\n",
       "      <td>500</td>\n",
       "      <td>BTM</td>\n",
       "    </tr>\n",
       "    <tr>\n",
       "      <th>114</th>\n",
       "      <td>Savoury Restaurant</td>\n",
       "      <td>Arabian, Middle Eastern, North Indian, Grill, ...</td>\n",
       "      <td>Madiwala, BTM</td>\n",
       "      <td>4.1</td>\n",
       "      <td>600</td>\n",
       "      <td>BTM</td>\n",
       "    </tr>\n",
       "  </tbody>\n",
       "</table>\n",
       "</div>"
      ],
      "text/plain": [
       "                                             Shop_Name  \\\n",
       "6    99 VARIETY DOSA AND PAV BHAJI- Malli Mane Food...   \n",
       "7                                      La Pino'z Pizza   \n",
       "10                                  Ambur Star Briyani   \n",
       "17                                   Sri Lakshmi Dhaba   \n",
       "20                   Just Bake - Cakes & confectioners   \n",
       "22                                      Hotel Godavari   \n",
       "25                                      Swad Punjab da   \n",
       "27                                       High N Hungry   \n",
       "31                                   Bengali Fun Foods   \n",
       "33                                           Oottupura   \n",
       "35                              Hyderabadi Biryani Hub   \n",
       "40                                Venu's Donne Biryani   \n",
       "42                                      Swadista Aahar   \n",
       "44                              Svadu Pure Ghee Sweets   \n",
       "45                                       Sai Abhiruchi   \n",
       "49                                        Balaji's Veg   \n",
       "51                                 Donne Biryani Mandi   \n",
       "60                             calicut cafe restaurant   \n",
       "65                                       World of asia   \n",
       "66                                       Ghar Ka Khana   \n",
       "68                                   KANNUR FOOD POINT   \n",
       "69                                  KANNOOR RESTAURANT   \n",
       "70                                            Fattoush   \n",
       "76                           BIRIYANI TASTE MASTH(BTM)   \n",
       "79                                   Tandoori Merchant   \n",
       "80                                         Chinese Bae   \n",
       "83                                     Abhiruchi Hotel   \n",
       "84                                        Punjabi Swag   \n",
       "86                             Gyaani Da Punjabi Dhaba   \n",
       "87                                     Biriyani Bhatti   \n",
       "92                                      BIRYANI CRAFTS   \n",
       "104                                     R.B Food Point   \n",
       "106                                New Tasty Cafeteria   \n",
       "110                                        Biryani Pot   \n",
       "114                                 Savoury Restaurant   \n",
       "\n",
       "                                               Cuisine  \\\n",
       "6                     Fast Food, North Indian, Chinese   \n",
       "7                                              Italian   \n",
       "10   Chinese, South Indian, North Indian, Desserts,...   \n",
       "17                                        North Indian   \n",
       "20                                    Desserts, Bakery   \n",
       "22                   North Indian, Chinese, Hyderabadi   \n",
       "25                                              Indian   \n",
       "27   Andhra, Biryani, Chinese, Desserts, Fast Food,...   \n",
       "31                                        North Indian   \n",
       "33                                Kerala, South Indian   \n",
       "35                      North Indian, Chinese, Biryani   \n",
       "40                                             Biryani   \n",
       "42         South Indian, Snacks, North Indian, Chinese   \n",
       "44                  Desserts, Fast Food, Sweets, Chaat   \n",
       "45           Chinese, South Indian, Andhra, Hyderabadi   \n",
       "49                 North Indian, Chinese, South Indian   \n",
       "51                       Biryani, Andhra, South Indian   \n",
       "60                                Fast Food, Beverages   \n",
       "65                                  Beverages, Chinese   \n",
       "66                                        North Indian   \n",
       "68                                     Kerala, Chinese   \n",
       "69                               North Indian, Chinese   \n",
       "70   Arabian, Beverages, Biryani, Chinese, Desserts...   \n",
       "76                          North Indian, South Indian   \n",
       "79   Andhra, Biryani, Chinese, Desserts, Fast Food,...   \n",
       "80                                       Chinese, Thai   \n",
       "83   Chinese, Hyderabadi, Biryani, Indian, South In...   \n",
       "84   Punjabi, North Indian, Chinese, Fast Food, Hea...   \n",
       "86                                        North Indian   \n",
       "87   Biryani, Hyderabadi, Andhra, North Indian, Sou...   \n",
       "92                                              Indian   \n",
       "104                              Chinese, North Indian   \n",
       "106  Andhra, Chettinad, Chinese, Mughlai, North Indian   \n",
       "110                              North Indian, Biryani   \n",
       "114  Arabian, Middle Eastern, North Indian, Grill, ...   \n",
       "\n",
       "                           Location  Rating  Cost_for_Two Area  \n",
       "6                BTM 2nd Stage, BTM     4.1           200  BTM  \n",
       "7                          BTM, BTM     3.9           500  BTM  \n",
       "10             outer ring road, BTM     4.1           500  BTM  \n",
       "17                Bommanahalli, BTM     3.7           200  BTM  \n",
       "20               BTM 1st stage, BTM     4.3           300  BTM  \n",
       "22       Marutinagar Main Road, BTM     4.0           400  BTM  \n",
       "25                         BTM, BTM     4.1           250  BTM  \n",
       "27                   4th Cross, BTM     4.1           350  BTM  \n",
       "31               BTM 2nd stage, BTM     4.2           300  BTM  \n",
       "33                         BTM, BTM     4.3           268  BTM  \n",
       "35                    3rd main, BTM     3.9           450  BTM  \n",
       "40      Chocolate Factory Road, BTM     4.3           300  BTM  \n",
       "42   16th Main Road, 2nd Stage, BTM     4.1           250  BTM  \n",
       "44                   1st Stage, BTM     4.1           200  BTM  \n",
       "45                         BTM, BTM     3.7           250  BTM  \n",
       "49                 Mico Layout, BTM     4.1           300  BTM  \n",
       "51                         BTM, BTM     4.0           150  BTM  \n",
       "60                         BTM, BTM     4.1           280  BTM  \n",
       "65                         BTM, BTM     4.0           250  BTM  \n",
       "66                         BTM, BTM     4.2           220  BTM  \n",
       "68                   SG palaya, BTM     3.9           300  BTM  \n",
       "69                         BTM, BTM     4.0           250  BTM  \n",
       "70                         BTM, BTM     3.9           400  BTM  \n",
       "76                         Btm, BTM     4.2           300  BTM  \n",
       "79                   4th Cross, BTM     4.2           100  BTM  \n",
       "80                         BTM, BTM     4.5           450  BTM  \n",
       "83                         BTM, BTM     4.0           250  BTM  \n",
       "84              16th Main Road, BTM     3.7           400  BTM  \n",
       "86                   2nd Stage, BTM     4.0           500  BTM  \n",
       "87      Kuvempu Nagar, Stage 2, BTM     4.1           350  BTM  \n",
       "92                         BTM, BTM     4.1           500  BTM  \n",
       "104           Jay Bheema Nagar, BTM     3.7           350  BTM  \n",
       "106              Maruthi Nagar, BTM     4.0           350  BTM  \n",
       "110          Madiwala Junction, BTM     4.0           500  BTM  \n",
       "114                   Madiwala, BTM     4.1           600  BTM  "
      ]
     },
     "execution_count": 47,
     "metadata": {},
     "output_type": "execute_result"
    }
   ],
   "source": [
    "df_btm"
   ]
  },
  {
   "cell_type": "code",
   "execution_count": 48,
   "id": "0bd92746",
   "metadata": {},
   "outputs": [
    {
     "data": {
      "text/plain": [
       "Rating            4.1\n",
       "Cost_for_Two    300.0\n",
       "dtype: float64"
      ]
     },
     "execution_count": 48,
     "metadata": {},
     "output_type": "execute_result"
    }
   ],
   "source": [
    "df_btm.median()"
   ]
  },
  {
   "cell_type": "code",
   "execution_count": 49,
   "id": "3db9f0b9",
   "metadata": {},
   "outputs": [
    {
     "data": {
      "image/png": "[encoded data removed]",
      "text/plain": [
       "<Figure size 432x288 with 1 Axes>"
      ]
     },
     "metadata": {},
     "output_type": "display_data"
    }
   ],
   "source": [
    "plt.style.use('fivethirtyeight')\n",
    "bins=[3.00,3.50,3.75,4.00,4.25,4.50,4.75,5.00]\n",
    "plt.hist(df_btm['Rating'], bins=bins, edgecolor='black')\n",
    "median_rating =4.1\n",
    "color = '#fc4f30'\n",
    "plt.axvline(median_rating, color=color, label='Median Rating', linewidth=2)\n",
    "\n",
    "plt.legend()\n",
    "\n",
    "plt.title('Rating analysis')\n",
    "plt.xlabel('Rating')\n",
    "plt.ylabel('Total number of Restaurants')\n",
    "\n",
    "plt.tight_layout()\n",
    "plt.show()"
   ]
  },
  {
   "cell_type": "code",
   "execution_count": 50,
   "id": "12b167e6",
   "metadata": {},
   "outputs": [
    {
     "data": {
      "image/png": "[encoded data removed]",
      "text/plain": [
       "<Figure size 432x288 with 1 Axes>"
      ]
     },
     "metadata": {},
     "output_type": "display_data"
    }
   ],
   "source": [
    "plt.style.use('fivethirtyeight')\n",
    "bins=[100,200,300,400,500,600,700,800]\n",
    "plt.hist(df_btm['Cost_for_Two'], bins=bins, edgecolor='black')\n",
    "median_cost =300.0\n",
    "color = '#fc4f30'\n",
    "plt.axvline(median_cost, color=color, label='Median cost', linewidth=2)\n",
    "\n",
    "plt.legend()\n",
    "\n",
    "plt.title('Cost_for_Two analysis')\n",
    "plt.xlabel('Cost_for_Two')\n",
    "plt.ylabel('Total number of Restaurants')\n",
    "\n",
    "plt.tight_layout()\n",
    "plt.show()"
   ]
  },
  {
   "cell_type": "markdown",
   "id": "21252cad",
   "metadata": {},
   "source": [
    "# Jayanagar"
   ]
  },
  {
   "cell_type": "code",
   "execution_count": 51,
   "id": "4c6b4e64",
   "metadata": {},
   "outputs": [],
   "source": [
    "df_jayanagar=df[df['Area']=='Jayanagar']"
   ]
  },
  {
   "cell_type": "code",
   "execution_count": 52,
   "id": "77ab2884",
   "metadata": {},
   "outputs": [
    {
     "data": {
      "text/html": [
       "<div>\n",
       "<style scoped>\n",
       "    .dataframe tbody tr th:only-of-type {\n",
       "        vertical-align: middle;\n",
       "    }\n",
       "\n",
       "    .dataframe tbody tr th {\n",
       "        vertical-align: top;\n",
       "    }\n",
       "\n",
       "    .dataframe thead th {\n",
       "        text-align: right;\n",
       "    }\n",
       "</style>\n",
       "<table border=\"1\" class=\"dataframe\">\n",
       "  <thead>\n",
       "    <tr style=\"text-align: right;\">\n",
       "      <th></th>\n",
       "      <th>Shop_Name</th>\n",
       "      <th>Cuisine</th>\n",
       "      <th>Location</th>\n",
       "      <th>Rating</th>\n",
       "      <th>Cost_for_Two</th>\n",
       "      <th>Area</th>\n",
       "    </tr>\n",
       "  </thead>\n",
       "  <tbody>\n",
       "    <tr>\n",
       "      <th>74</th>\n",
       "      <td>CRAVY WINGS - The American Diner</td>\n",
       "      <td>American, Fast Food</td>\n",
       "      <td>Bannerghatta Road, Jayanagar</td>\n",
       "      <td>4.3</td>\n",
       "      <td>300</td>\n",
       "      <td>Jayanagar</td>\n",
       "    </tr>\n",
       "  </tbody>\n",
       "</table>\n",
       "</div>"
      ],
      "text/plain": [
       "                           Shop_Name              Cuisine  \\\n",
       "74  CRAVY WINGS - The American Diner  American, Fast Food   \n",
       "\n",
       "                        Location  Rating  Cost_for_Two       Area  \n",
       "74  Bannerghatta Road, Jayanagar     4.3           300  Jayanagar  "
      ]
     },
     "execution_count": 52,
     "metadata": {},
     "output_type": "execute_result"
    }
   ],
   "source": [
    "df_jayanagar"
   ]
  },
  {
   "cell_type": "markdown",
   "id": "dc5e8dda",
   "metadata": {},
   "source": [
    "# Revenue Area wise"
   ]
  },
  {
   "cell_type": "code",
   "execution_count": 53,
   "id": "f2f4396d",
   "metadata": {},
   "outputs": [
    {
     "data": {
      "text/plain": [
       "Area\n",
       "BTM            11518\n",
       "HSR             6650\n",
       "Jayanagar        300\n",
       "Koramangala    19061\n",
       "Name: Cost_for_Two, dtype: int32"
      ]
     },
     "execution_count": 53,
     "metadata": {},
     "output_type": "execute_result"
    }
   ],
   "source": [
    "df.groupby('Area')['Cost_for_Two'].sum()"
   ]
  },
  {
   "cell_type": "markdown",
   "id": "fb56c75d",
   "metadata": {},
   "source": [
    "#### Koramangala area is earning more revenue "
   ]
  },
  {
   "cell_type": "markdown",
   "id": "c5c9fb8f",
   "metadata": {},
   "source": [
    "# Cuisine Analysis"
   ]
  },
  {
   "cell_type": "code",
   "execution_count": 54,
   "id": "95293588",
   "metadata": {},
   "outputs": [
    {
     "data": {
      "text/html": [
       "<div>\n",
       "<style scoped>\n",
       "    .dataframe tbody tr th:only-of-type {\n",
       "        vertical-align: middle;\n",
       "    }\n",
       "\n",
       "    .dataframe tbody tr th {\n",
       "        vertical-align: top;\n",
       "    }\n",
       "\n",
       "    .dataframe thead th {\n",
       "        text-align: right;\n",
       "    }\n",
       "</style>\n",
       "<table border=\"1\" class=\"dataframe\">\n",
       "  <thead>\n",
       "    <tr style=\"text-align: right;\">\n",
       "      <th></th>\n",
       "      <th>Shop_Name</th>\n",
       "      <th>Cuisine</th>\n",
       "      <th>Location</th>\n",
       "      <th>Rating</th>\n",
       "      <th>Cost_for_Two</th>\n",
       "      <th>Area</th>\n",
       "    </tr>\n",
       "  </thead>\n",
       "  <tbody>\n",
       "    <tr>\n",
       "      <th>0</th>\n",
       "      <td>Kanti Sweets</td>\n",
       "      <td>Sweets</td>\n",
       "      <td>Koramangala, Koramangala</td>\n",
       "      <td>4.3</td>\n",
       "      <td>150</td>\n",
       "      <td>Koramangala</td>\n",
       "    </tr>\n",
       "    <tr>\n",
       "      <th>1</th>\n",
       "      <td>Mumbai Tiffin</td>\n",
       "      <td>North Indian, Home Food, Thalis, Combo</td>\n",
       "      <td>Sector 5, HSR</td>\n",
       "      <td>4.4</td>\n",
       "      <td>400</td>\n",
       "      <td>HSR</td>\n",
       "    </tr>\n",
       "    <tr>\n",
       "      <th>2</th>\n",
       "      <td>Sri Krishna sagar</td>\n",
       "      <td>South Indian, North Indian, Fast Food, Beverag...</td>\n",
       "      <td>6th Block, Koramangala</td>\n",
       "      <td>4.1</td>\n",
       "      <td>126</td>\n",
       "      <td>Koramangala</td>\n",
       "    </tr>\n",
       "    <tr>\n",
       "      <th>3</th>\n",
       "      <td>Al Daaz</td>\n",
       "      <td>American, Arabian, Chinese, Desserts, Fast Foo...</td>\n",
       "      <td>HSR, HSR</td>\n",
       "      <td>4.4</td>\n",
       "      <td>400</td>\n",
       "      <td>HSR</td>\n",
       "    </tr>\n",
       "    <tr>\n",
       "      <th>4</th>\n",
       "      <td>Beijing Bites</td>\n",
       "      <td>Chinese, Thai</td>\n",
       "      <td>5th Block, Koramangala</td>\n",
       "      <td>4.1</td>\n",
       "      <td>450</td>\n",
       "      <td>Koramangala</td>\n",
       "    </tr>\n",
       "  </tbody>\n",
       "</table>\n",
       "</div>"
      ],
      "text/plain": [
       "           Shop_Name                                            Cuisine  \\\n",
       "0       Kanti Sweets                                             Sweets   \n",
       "1      Mumbai Tiffin             North Indian, Home Food, Thalis, Combo   \n",
       "2  Sri Krishna sagar  South Indian, North Indian, Fast Food, Beverag...   \n",
       "3            Al Daaz  American, Arabian, Chinese, Desserts, Fast Foo...   \n",
       "4      Beijing Bites                                      Chinese, Thai   \n",
       "\n",
       "                   Location  Rating  Cost_for_Two         Area  \n",
       "0  Koramangala, Koramangala     4.3           150  Koramangala  \n",
       "1             Sector 5, HSR     4.4           400          HSR  \n",
       "2    6th Block, Koramangala     4.1           126  Koramangala  \n",
       "3                  HSR, HSR     4.4           400          HSR  \n",
       "4    5th Block, Koramangala     4.1           450  Koramangala  "
      ]
     },
     "execution_count": 54,
     "metadata": {},
     "output_type": "execute_result"
    }
   ],
   "source": [
    "df.head()"
   ]
  },
  {
   "cell_type": "code",
   "execution_count": 55,
   "id": "23493e87",
   "metadata": {},
   "outputs": [
    {
     "data": {
      "text/plain": [
       "0                                                 Sweets\n",
       "1                 North Indian, Home Food, Thalis, Combo\n",
       "2      South Indian, North Indian, Fast Food, Beverag...\n",
       "3      American, Arabian, Chinese, Desserts, Fast Foo...\n",
       "4                                          Chinese, Thai\n",
       "                             ...                        \n",
       "113                            Pan-Asian, Chinese, Asian\n",
       "114    Arabian, Middle Eastern, North Indian, Grill, ...\n",
       "115              North Indian, Chinese, Seafood, Biryani\n",
       "116                                         North Indian\n",
       "117                                      Andhra, Biryani\n",
       "Name: Cuisine, Length: 117, dtype: object"
      ]
     },
     "execution_count": 55,
     "metadata": {},
     "output_type": "execute_result"
    }
   ],
   "source": [
    "df.Cuisine"
   ]
  },
  {
   "cell_type": "code",
   "execution_count": 56,
   "id": "60f8f541",
   "metadata": {},
   "outputs": [
    {
     "data": {
      "text/plain": [
       "array(['Sweets', 'North Indian, Home Food, Thalis, Combo',\n",
       "       'South Indian, North Indian, Fast Food, Beverages, Jain',\n",
       "       'American, Arabian, Chinese, Desserts, Fast Food, Mughlai, North Indian',\n",
       "       'Chinese, Thai', 'North Indian',\n",
       "       'Fast Food, North Indian, Chinese', 'Italian',\n",
       "       'South Indian, Kerala, Chinese, North Indian',\n",
       "       'Pizzas, Italian, Mexican',\n",
       "       'Chinese, South Indian, North Indian, Desserts, Fast Food, Kerala, Andhra, Beverages, Mughlai, Seafood',\n",
       "       'Desserts', 'Chinese, Andhra, Biryani, Seafood', 'Chinese',\n",
       "       'South Indian, Chinese, Desserts, North Indian',\n",
       "       'Arabian, Fast Food', 'Desserts, Beverages', 'Indian, Rajasthani',\n",
       "       'Desserts, Bakery', 'Chinese, Healthy Food, North Indian',\n",
       "       'North Indian, Chinese, Hyderabadi', 'Fast Food',\n",
       "       'Chinese, Jain, North Indian, South Indian', 'Indian',\n",
       "       'North Indian, South Indian, Chinese',\n",
       "       'Andhra, Biryani, Chinese, Desserts, Fast Food, Seafood, South Indian',\n",
       "       'American, Fast Food',\n",
       "       'Biryani, Seafood, North Indian, Chinese, Desserts, Andhra, South Indian',\n",
       "       'Snacks, American', 'South Indian', 'Kerala, South Indian',\n",
       "       'Mexican', 'North Indian, Chinese, Biryani',\n",
       "       'Turkish, Portuguese, American', 'Biryani',\n",
       "       'South Indian, Snacks, North Indian, Chinese',\n",
       "       'Desserts, Fast Food, Sweets, Chaat',\n",
       "       'Chinese, South Indian, Andhra, Hyderabadi', 'Pizzas, Fast Food',\n",
       "       'Biryani, Mughlai, South Indian', 'Chinese, Asian',\n",
       "       'North Indian, Chinese, South Indian', 'Italian, Desserts, Pizzas',\n",
       "       'Biryani, Andhra, South Indian',\n",
       "       'Chinese, Continental, Italian, Mediterranean, Thai, Lebanese, American, Asian, Beverages, Bakery, Biryani, Cafe, Desserts, Healthy Food, Mexican, North Indian, Salads, Pizzas',\n",
       "       'Pizzas, Chinese, Pastas, Salads, American, Continental',\n",
       "       'Andhra, Biryani',\n",
       "       'Chinese, South Indian, North Indian, Fast Food',\n",
       "       'Fast Food, Beverages',\n",
       "       'Biryani, South Indian, North Indian, Fast Food, Andhra, Beverages, Mughlai, Seafood, Punjabi, Hyderabadi, Chinese',\n",
       "       'Beverages, Chinese',\n",
       "       'South Indian, Biryani, Kerala, North Indian, Chinese',\n",
       "       'Kerala, Chinese', 'North Indian, Chinese',\n",
       "       'Arabian, Beverages, Biryani, Chinese, Desserts, North Indian',\n",
       "       'Biryani, Juices, Kebabs', 'Andhra, South Indian',\n",
       "       'Beverages, Cafe, Snacks', 'North Indian, South Indian',\n",
       "       'Turkish, Portuguese, American, Grill',\n",
       "       'Home Food, Healthy Food, Indian', 'Ice Cream',\n",
       "       'Chinese, Hyderabadi, Biryani, Indian, South Indian, Andhra, Tandoor',\n",
       "       'Punjabi, North Indian, Chinese, Fast Food, Healthy Food, Mughlai, Desserts',\n",
       "       'American',\n",
       "       'Biryani, Hyderabadi, Andhra, North Indian, South Indian',\n",
       "       'Fast Food, Juices, North Indian',\n",
       "       'North Indian, Chaat, Snacks, Fast Food',\n",
       "       'Desserts, Mughlai, Seafood', 'Ice Cream, Desserts',\n",
       "       'Chinese, North Indian', 'Biryani, Kebabs',\n",
       "       'Andhra, Chettinad, Chinese, Mughlai, North Indian',\n",
       "       'Chettinad, South Indian',\n",
       "       'Continental, Indian, Pan-Asian, Oriental',\n",
       "       'North Indian, Biryani', 'Pan-Asian, Chinese, Asian',\n",
       "       'Arabian, Middle Eastern, North Indian, Grill, Seafood, Kerala, Chinese',\n",
       "       'North Indian, Chinese, Seafood, Biryani'], dtype=object)"
      ]
     },
     "execution_count": 56,
     "metadata": {},
     "output_type": "execute_result"
    }
   ],
   "source": [
    "df['Cuisine'].unique()"
   ]
  },
  {
   "cell_type": "code",
   "execution_count": 57,
   "id": "a9b4fa28",
   "metadata": {},
   "outputs": [],
   "source": [
    "def df_Cuisine(data):\n",
    "\n",
    "    Cuisines_category = {}\n",
    "\n",
    "    for i in data['Cuisine'].unique():\n",
    "        cu = i.replace(' ','').split(',')\n",
    "        for c in cu:\n",
    "            Cuisines = c\n",
    "            if Cuisines in Cuisines_category:\n",
    "                Cuisines_category[Cuisines] += 1\n",
    "            else:\n",
    "                Cuisines_category[Cuisines] = 1\n",
    "\n",
    "    Cuisine_Analysis = pd.DataFrame({'Cuisine' : Cuisines_category.keys(),'Frequency' : Cuisines_category.values()})\n",
    "        \n",
    "    return Cuisine_Analysis"
   ]
  },
  {
   "cell_type": "code",
   "execution_count": 86,
   "id": "63325341",
   "metadata": {},
   "outputs": [
    {
     "data": {
      "text/html": [
       "<div>\n",
       "<style scoped>\n",
       "    .dataframe tbody tr th:only-of-type {\n",
       "        vertical-align: middle;\n",
       "    }\n",
       "\n",
       "    .dataframe tbody tr th {\n",
       "        vertical-align: top;\n",
       "    }\n",
       "\n",
       "    .dataframe thead th {\n",
       "        text-align: right;\n",
       "    }\n",
       "</style>\n",
       "<table border=\"1\" class=\"dataframe\">\n",
       "  <thead>\n",
       "    <tr style=\"text-align: right;\">\n",
       "      <th></th>\n",
       "      <th>Cuisine</th>\n",
       "      <th>Frequency</th>\n",
       "    </tr>\n",
       "  </thead>\n",
       "  <tbody>\n",
       "    <tr>\n",
       "      <th>11</th>\n",
       "      <td>Chinese</td>\n",
       "      <td>35</td>\n",
       "    </tr>\n",
       "    <tr>\n",
       "      <th>1</th>\n",
       "      <td>NorthIndian</td>\n",
       "      <td>32</td>\n",
       "    </tr>\n",
       "    <tr>\n",
       "      <th>5</th>\n",
       "      <td>SouthIndian</td>\n",
       "      <td>23</td>\n",
       "    </tr>\n",
       "    <tr>\n",
       "      <th>21</th>\n",
       "      <td>Biryani</td>\n",
       "      <td>18</td>\n",
       "    </tr>\n",
       "    <tr>\n",
       "      <th>6</th>\n",
       "      <td>FastFood</td>\n",
       "      <td>16</td>\n",
       "    </tr>\n",
       "    <tr>\n",
       "      <th>12</th>\n",
       "      <td>Desserts</td>\n",
       "      <td>15</td>\n",
       "    </tr>\n",
       "    <tr>\n",
       "      <th>19</th>\n",
       "      <td>Andhra</td>\n",
       "      <td>12</td>\n",
       "    </tr>\n",
       "    <tr>\n",
       "      <th>7</th>\n",
       "      <td>Beverages</td>\n",
       "      <td>9</td>\n",
       "    </tr>\n",
       "    <tr>\n",
       "      <th>9</th>\n",
       "      <td>American</td>\n",
       "      <td>8</td>\n",
       "    </tr>\n",
       "    <tr>\n",
       "      <th>20</th>\n",
       "      <td>Seafood</td>\n",
       "      <td>8</td>\n",
       "    </tr>\n",
       "    <tr>\n",
       "      <th>13</th>\n",
       "      <td>Mughlai</td>\n",
       "      <td>7</td>\n",
       "    </tr>\n",
       "    <tr>\n",
       "      <th>16</th>\n",
       "      <td>Kerala</td>\n",
       "      <td>6</td>\n",
       "    </tr>\n",
       "    <tr>\n",
       "      <th>26</th>\n",
       "      <td>Hyderabadi</td>\n",
       "      <td>5</td>\n",
       "    </tr>\n",
       "    <tr>\n",
       "      <th>22</th>\n",
       "      <td>Indian</td>\n",
       "      <td>5</td>\n",
       "    </tr>\n",
       "    <tr>\n",
       "      <th>17</th>\n",
       "      <td>Pizzas</td>\n",
       "      <td>5</td>\n",
       "    </tr>\n",
       "    <tr>\n",
       "      <th>10</th>\n",
       "      <td>Arabian</td>\n",
       "      <td>4</td>\n",
       "    </tr>\n",
       "    <tr>\n",
       "      <th>25</th>\n",
       "      <td>HealthyFood</td>\n",
       "      <td>4</td>\n",
       "    </tr>\n",
       "    <tr>\n",
       "      <th>15</th>\n",
       "      <td>Italian</td>\n",
       "      <td>4</td>\n",
       "    </tr>\n",
       "    <tr>\n",
       "      <th>27</th>\n",
       "      <td>Snacks</td>\n",
       "      <td>4</td>\n",
       "    </tr>\n",
       "    <tr>\n",
       "      <th>31</th>\n",
       "      <td>Asian</td>\n",
       "      <td>3</td>\n",
       "    </tr>\n",
       "    <tr>\n",
       "      <th>18</th>\n",
       "      <td>Mexican</td>\n",
       "      <td>3</td>\n",
       "    </tr>\n",
       "    <tr>\n",
       "      <th>32</th>\n",
       "      <td>Continental</td>\n",
       "      <td>3</td>\n",
       "    </tr>\n",
       "    <tr>\n",
       "      <th>40</th>\n",
       "      <td>Kebabs</td>\n",
       "      <td>2</td>\n",
       "    </tr>\n",
       "    <tr>\n",
       "      <th>39</th>\n",
       "      <td>Juices</td>\n",
       "      <td>2</td>\n",
       "    </tr>\n",
       "    <tr>\n",
       "      <th>41</th>\n",
       "      <td>Grill</td>\n",
       "      <td>2</td>\n",
       "    </tr>\n",
       "    <tr>\n",
       "      <th>42</th>\n",
       "      <td>IceCream</td>\n",
       "      <td>2</td>\n",
       "    </tr>\n",
       "    <tr>\n",
       "      <th>44</th>\n",
       "      <td>Chettinad</td>\n",
       "      <td>2</td>\n",
       "    </tr>\n",
       "    <tr>\n",
       "      <th>45</th>\n",
       "      <td>Pan-Asian</td>\n",
       "      <td>2</td>\n",
       "    </tr>\n",
       "    <tr>\n",
       "      <th>38</th>\n",
       "      <td>Punjabi</td>\n",
       "      <td>2</td>\n",
       "    </tr>\n",
       "    <tr>\n",
       "      <th>36</th>\n",
       "      <td>Salads</td>\n",
       "      <td>2</td>\n",
       "    </tr>\n",
       "    <tr>\n",
       "      <th>35</th>\n",
       "      <td>Cafe</td>\n",
       "      <td>2</td>\n",
       "    </tr>\n",
       "    <tr>\n",
       "      <th>0</th>\n",
       "      <td>Sweets</td>\n",
       "      <td>2</td>\n",
       "    </tr>\n",
       "    <tr>\n",
       "      <th>24</th>\n",
       "      <td>Bakery</td>\n",
       "      <td>2</td>\n",
       "    </tr>\n",
       "    <tr>\n",
       "      <th>30</th>\n",
       "      <td>Chaat</td>\n",
       "      <td>2</td>\n",
       "    </tr>\n",
       "    <tr>\n",
       "      <th>29</th>\n",
       "      <td>Portuguese</td>\n",
       "      <td>2</td>\n",
       "    </tr>\n",
       "    <tr>\n",
       "      <th>28</th>\n",
       "      <td>Turkish</td>\n",
       "      <td>2</td>\n",
       "    </tr>\n",
       "    <tr>\n",
       "      <th>14</th>\n",
       "      <td>Thai</td>\n",
       "      <td>2</td>\n",
       "    </tr>\n",
       "    <tr>\n",
       "      <th>8</th>\n",
       "      <td>Jain</td>\n",
       "      <td>2</td>\n",
       "    </tr>\n",
       "    <tr>\n",
       "      <th>2</th>\n",
       "      <td>HomeFood</td>\n",
       "      <td>2</td>\n",
       "    </tr>\n",
       "    <tr>\n",
       "      <th>33</th>\n",
       "      <td>Mediterranean</td>\n",
       "      <td>1</td>\n",
       "    </tr>\n",
       "    <tr>\n",
       "      <th>34</th>\n",
       "      <td>Lebanese</td>\n",
       "      <td>1</td>\n",
       "    </tr>\n",
       "    <tr>\n",
       "      <th>37</th>\n",
       "      <td>Pastas</td>\n",
       "      <td>1</td>\n",
       "    </tr>\n",
       "    <tr>\n",
       "      <th>23</th>\n",
       "      <td>Rajasthani</td>\n",
       "      <td>1</td>\n",
       "    </tr>\n",
       "    <tr>\n",
       "      <th>4</th>\n",
       "      <td>Combo</td>\n",
       "      <td>1</td>\n",
       "    </tr>\n",
       "    <tr>\n",
       "      <th>43</th>\n",
       "      <td>Tandoor</td>\n",
       "      <td>1</td>\n",
       "    </tr>\n",
       "    <tr>\n",
       "      <th>3</th>\n",
       "      <td>Thalis</td>\n",
       "      <td>1</td>\n",
       "    </tr>\n",
       "    <tr>\n",
       "      <th>46</th>\n",
       "      <td>Oriental</td>\n",
       "      <td>1</td>\n",
       "    </tr>\n",
       "    <tr>\n",
       "      <th>47</th>\n",
       "      <td>MiddleEastern</td>\n",
       "      <td>1</td>\n",
       "    </tr>\n",
       "  </tbody>\n",
       "</table>\n",
       "</div>"
      ],
      "text/plain": [
       "          Cuisine  Frequency\n",
       "11        Chinese         35\n",
       "1     NorthIndian         32\n",
       "5     SouthIndian         23\n",
       "21        Biryani         18\n",
       "6        FastFood         16\n",
       "12       Desserts         15\n",
       "19         Andhra         12\n",
       "7       Beverages          9\n",
       "9        American          8\n",
       "20        Seafood          8\n",
       "13        Mughlai          7\n",
       "16         Kerala          6\n",
       "26     Hyderabadi          5\n",
       "22         Indian          5\n",
       "17         Pizzas          5\n",
       "10        Arabian          4\n",
       "25    HealthyFood          4\n",
       "15        Italian          4\n",
       "27         Snacks          4\n",
       "31          Asian          3\n",
       "18        Mexican          3\n",
       "32    Continental          3\n",
       "40         Kebabs          2\n",
       "39         Juices          2\n",
       "41          Grill          2\n",
       "42       IceCream          2\n",
       "44      Chettinad          2\n",
       "45      Pan-Asian          2\n",
       "38        Punjabi          2\n",
       "36         Salads          2\n",
       "35           Cafe          2\n",
       "0          Sweets          2\n",
       "24         Bakery          2\n",
       "30          Chaat          2\n",
       "29     Portuguese          2\n",
       "28        Turkish          2\n",
       "14           Thai          2\n",
       "8            Jain          2\n",
       "2        HomeFood          2\n",
       "33  Mediterranean          1\n",
       "34       Lebanese          1\n",
       "37         Pastas          1\n",
       "23     Rajasthani          1\n",
       "4           Combo          1\n",
       "43        Tandoor          1\n",
       "3          Thalis          1\n",
       "46       Oriental          1\n",
       "47  MiddleEastern          1"
      ]
     },
     "execution_count": 86,
     "metadata": {},
     "output_type": "execute_result"
    }
   ],
   "source": [
    "df_cuisine = df_Cuisine(df)\n",
    "\n",
    "df_cuisine.sort_values('Frequency',ascending=False,inplace=True)\n",
    "\n",
    "df_cuisine"
   ]
  },
  {
   "cell_type": "code",
   "execution_count": 87,
   "id": "3866b9de",
   "metadata": {},
   "outputs": [],
   "source": [
    "df_cuisine_top=df_cuisine.head(10)"
   ]
  },
  {
   "cell_type": "code",
   "execution_count": 88,
   "id": "7942b086",
   "metadata": {},
   "outputs": [
    {
     "data": {
      "application/vnd.plotly.v1+json": {
       "config": {
        "plotlyServerURL": "https://plot.ly"
       },
       "data": [
        {
         "domain": {
          "x": [
           0,
           1
          ],
          "y": [
           0,
           1
          ]
         },
         "hovertemplate": "Cuisine=%{label}<br>Frequency=%{value}<extra></extra>",
         "labels": [
          "Chinese",
          "NorthIndian",
          "SouthIndian",
          "Biryani",
          "FastFood",
          "Desserts",
          "Andhra",
          "Beverages",
          "American",
          "Seafood"
         ],
         "legendgroup": "",
         "name": "",
         "showlegend": true,
         "textinfo": "percent+label",
         "textposition": "inside",
         "type": "pie",
         "values": [
          35,
          32,
          23,
          18,
          16,
          15,
          12,
          9,
          8,
          8
         ]
        }
       ],
       "layout": {
        "legend": {
         "tracegroupgap": 0
        },
        "template": {
         "data": {
          "bar": [
           {
            "error_x": {
             "color": "#2a3f5f"
            },
            "error_y": {
             "color": "#2a3f5f"
            },
            "marker": {
             "line": {
              "color": "#E5ECF6",
              "width": 0.5
             },
             "pattern": {
              "fillmode": "overlay",
              "size": 10,
              "solidity": 0.2
             }
            },
            "type": "bar"
           }
          ],
          "barpolar": [
           {
            "marker": {
             "line": {
              "color": "#E5ECF6",
              "width": 0.5
             },
             "pattern": {
              "fillmode": "overlay",
              "size": 10,
              "solidity": 0.2
             }
            },
            "type": "barpolar"
           }
          ],
          "carpet": [
           {
            "aaxis": {
             "endlinecolor": "#2a3f5f",
             "gridcolor": "white",
             "linecolor": "white",
             "minorgridcolor": "white",
             "startlinecolor": "#2a3f5f"
            },
            "baxis": {
             "endlinecolor": "#2a3f5f",
             "gridcolor": "white",
             "linecolor": "white",
             "minorgridcolor": "white",
             "startlinecolor": "#2a3f5f"
            },
            "type": "carpet"
           }
          ],
          "choropleth": [
           {
            "colorbar": {
             "outlinewidth": 0,
             "ticks": ""
            },
            "type": "choropleth"
           }
          ],
          "contour": [
           {
            "colorbar": {
             "outlinewidth": 0,
             "ticks": ""
            },
            "colorscale": [
             [
              0,
              "#0d0887"
             ],
             [
              0.1111111111111111,
              "#46039f"
             ],
             [
              0.2222222222222222,
              "#7201a8"
             ],
             [
              0.3333333333333333,
              "#9c179e"
             ],
             [
              0.4444444444444444,
              "#bd3786"
             ],
             [
              0.5555555555555556,
              "#d8576b"
             ],
             [
              0.6666666666666666,
              "#ed7953"
             ],
             [
              0.7777777777777778,
              "#fb9f3a"
             ],
             [
              0.8888888888888888,
              "#fdca26"
             ],
             [
              1,
              "#f0f921"
             ]
            ],
            "type": "contour"
           }
          ],
          "contourcarpet": [
           {
            "colorbar": {
             "outlinewidth": 0,
             "ticks": ""
            },
            "type": "contourcarpet"
           }
          ],
          "heatmap": [
           {
            "colorbar": {
             "outlinewidth": 0,
             "ticks": ""
            },
            "colorscale": [
             [
              0,
              "#0d0887"
             ],
             [
              0.1111111111111111,
              "#46039f"
             ],
             [
              0.2222222222222222,
              "#7201a8"
             ],
             [
              0.3333333333333333,
              "#9c179e"
             ],
             [
              0.4444444444444444,
              "#bd3786"
             ],
             [
              0.5555555555555556,
              "#d8576b"
             ],
             [
              0.6666666666666666,
              "#ed7953"
             ],
             [
              0.7777777777777778,
              "#fb9f3a"
             ],
             [
              0.8888888888888888,
              "#fdca26"
             ],
             [
              1,
              "#f0f921"
             ]
            ],
            "type": "heatmap"
           }
          ],
          "heatmapgl": [
           {
            "colorbar": {
             "outlinewidth": 0,
             "ticks": ""
            },
            "colorscale": [
             [
              0,
              "#0d0887"
             ],
             [
              0.1111111111111111,
              "#46039f"
             ],
             [
              0.2222222222222222,
              "#7201a8"
             ],
             [
              0.3333333333333333,
              "#9c179e"
             ],
             [
              0.4444444444444444,
              "#bd3786"
             ],
             [
              0.5555555555555556,
              "#d8576b"
             ],
             [
              0.6666666666666666,
              "#ed7953"
             ],
             [
              0.7777777777777778,
              "#fb9f3a"
             ],
             [
              0.8888888888888888,
              "#fdca26"
             ],
             [
              1,
              "#f0f921"
             ]
            ],
            "type": "heatmapgl"
           }
          ],
          "histogram": [
           {
            "marker": {
             "pattern": {
              "fillmode": "overlay",
              "size": 10,
              "solidity": 0.2
             }
            },
            "type": "histogram"
           }
          ],
          "histogram2d": [
           {
            "colorbar": {
             "outlinewidth": 0,
             "ticks": ""
            },
            "colorscale": [
             [
              0,
              "#0d0887"
             ],
             [
              0.1111111111111111,
              "#46039f"
             ],
             [
              0.2222222222222222,
              "#7201a8"
             ],
             [
              0.3333333333333333,
              "#9c179e"
             ],
             [
              0.4444444444444444,
              "#bd3786"
             ],
             [
              0.5555555555555556,
              "#d8576b"
             ],
             [
              0.6666666666666666,
              "#ed7953"
             ],
             [
              0.7777777777777778,
              "#fb9f3a"
             ],
             [
              0.8888888888888888,
              "#fdca26"
             ],
             [
              1,
              "#f0f921"
             ]
            ],
            "type": "histogram2d"
           }
          ],
          "histogram2dcontour": [
           {
            "colorbar": {
             "outlinewidth": 0,
             "ticks": ""
            },
            "colorscale": [
             [
              0,
              "#0d0887"
             ],
             [
              0.1111111111111111,
              "#46039f"
             ],
             [
              0.2222222222222222,
              "#7201a8"
             ],
             [
              0.3333333333333333,
              "#9c179e"
             ],
             [
              0.4444444444444444,
              "#bd3786"
             ],
             [
              0.5555555555555556,
              "#d8576b"
             ],
             [
              0.6666666666666666,
              "#ed7953"
             ],
             [
              0.7777777777777778,
              "#fb9f3a"
             ],
             [
              0.8888888888888888,
              "#fdca26"
             ],
             [
              1,
              "#f0f921"
             ]
            ],
            "type": "histogram2dcontour"
           }
          ],
          "mesh3d": [
           {
            "colorbar": {
             "outlinewidth": 0,
             "ticks": ""
            },
            "type": "mesh3d"
           }
          ],
          "parcoords": [
           {
            "line": {
             "colorbar": {
              "outlinewidth": 0,
              "ticks": ""
             }
            },
            "type": "parcoords"
           }
          ],
          "pie": [
           {
            "automargin": true,
            "type": "pie"
           }
          ],
          "scatter": [
           {
            "marker": {
             "colorbar": {
              "outlinewidth": 0,
              "ticks": ""
             }
            },
            "type": "scatter"
           }
          ],
          "scatter3d": [
           {
            "line": {
             "colorbar": {
              "outlinewidth": 0,
              "ticks": ""
             }
            },
            "marker": {
             "colorbar": {
              "outlinewidth": 0,
              "ticks": ""
             }
            },
            "type": "scatter3d"
           }
          ],
          "scattercarpet": [
           {
            "marker": {
             "colorbar": {
              "outlinewidth": 0,
              "ticks": ""
             }
            },
            "type": "scattercarpet"
           }
          ],
          "scattergeo": [
           {
            "marker": {
             "colorbar": {
              "outlinewidth": 0,
              "ticks": ""
             }
            },
            "type": "scattergeo"
           }
          ],
          "scattergl": [
           {
            "marker": {
             "colorbar": {
              "outlinewidth": 0,
              "ticks": ""
             }
            },
            "type": "scattergl"
           }
          ],
          "scattermapbox": [
           {
            "marker": {
             "colorbar": {
              "outlinewidth": 0,
              "ticks": ""
             }
            },
            "type": "scattermapbox"
           }
          ],
          "scatterpolar": [
           {
            "marker": {
             "colorbar": {
              "outlinewidth": 0,
              "ticks": ""
             }
            },
            "type": "scatterpolar"
           }
          ],
          "scatterpolargl": [
           {
            "marker": {
             "colorbar": {
              "outlinewidth": 0,
              "ticks": ""
             }
            },
            "type": "scatterpolargl"
           }
          ],
          "scatterternary": [
           {
            "marker": {
             "colorbar": {
              "outlinewidth": 0,
              "ticks": ""
             }
            },
            "type": "scatterternary"
           }
          ],
          "surface": [
           {
            "colorbar": {
             "outlinewidth": 0,
             "ticks": ""
            },
            "colorscale": [
             [
              0,
              "#0d0887"
             ],
             [
              0.1111111111111111,
              "#46039f"
             ],
             [
              0.2222222222222222,
              "#7201a8"
             ],
             [
              0.3333333333333333,
              "#9c179e"
             ],
             [
              0.4444444444444444,
              "#bd3786"
             ],
             [
              0.5555555555555556,
              "#d8576b"
             ],
             [
              0.6666666666666666,
              "#ed7953"
             ],
             [
              0.7777777777777778,
              "#fb9f3a"
             ],
             [
              0.8888888888888888,
              "#fdca26"
             ],
             [
              1,
              "#f0f921"
             ]
            ],
            "type": "surface"
           }
          ],
          "table": [
           {
            "cells": {
             "fill": {
              "color": "#EBF0F8"
             },
             "line": {
              "color": "white"
             }
            },
            "header": {
             "fill": {
              "color": "#C8D4E3"
             },
             "line": {
              "color": "white"
             }
            },
            "type": "table"
           }
          ]
         },
         "layout": {
          "annotationdefaults": {
           "arrowcolor": "#2a3f5f",
           "arrowhead": 0,
           "arrowwidth": 1
          },
          "autotypenumbers": "strict",
          "coloraxis": {
           "colorbar": {
            "outlinewidth": 0,
            "ticks": ""
           }
          },
          "colorscale": {
           "diverging": [
            [
             0,
             "#8e0152"
            ],
            [
             0.1,
             "#c51b7d"
            ],
            [
             0.2,
             "#de77ae"
            ],
            [
             0.3,
             "#f1b6da"
            ],
            [
             0.4,
             "#fde0ef"
            ],
            [
             0.5,
             "#f7f7f7"
            ],
            [
             0.6,
             "#e6f5d0"
            ],
            [
             0.7,
             "#b8e186"
            ],
            [
             0.8,
             "#7fbc41"
            ],
            [
             0.9,
             "#4d9221"
            ],
            [
             1,
             "#276419"
            ]
           ],
           "sequential": [
            [
             0,
             "#0d0887"
            ],
            [
             0.1111111111111111,
             "#46039f"
            ],
            [
             0.2222222222222222,
             "#7201a8"
            ],
            [
             0.3333333333333333,
             "#9c179e"
            ],
            [
             0.4444444444444444,
             "#bd3786"
            ],
            [
             0.5555555555555556,
             "#d8576b"
            ],
            [
             0.6666666666666666,
             "#ed7953"
            ],
            [
             0.7777777777777778,
             "#fb9f3a"
            ],
            [
             0.8888888888888888,
             "#fdca26"
            ],
            [
             1,
             "#f0f921"
            ]
           ],
           "sequentialminus": [
            [
             0,
             "#0d0887"
            ],
            [
             0.1111111111111111,
             "#46039f"
            ],
            [
             0.2222222222222222,
             "#7201a8"
            ],
            [
             0.3333333333333333,
             "#9c179e"
            ],
            [
             0.4444444444444444,
             "#bd3786"
            ],
            [
             0.5555555555555556,
             "#d8576b"
            ],
            [
             0.6666666666666666,
             "#ed7953"
            ],
            [
             0.7777777777777778,
             "#fb9f3a"
            ],
            [
             0.8888888888888888,
             "#fdca26"
            ],
            [
             1,
             "#f0f921"
            ]
           ]
          },
          "colorway": [
           "#636efa",
           "#EF553B",
           "#00cc96",
           "#ab63fa",
           "#FFA15A",
           "#19d3f3",
           "#FF6692",
           "#B6E880",
           "#FF97FF",
           "#FECB52"
          ],
          "font": {
           "color": "#2a3f5f"
          },
          "geo": {
           "bgcolor": "white",
           "lakecolor": "white",
           "landcolor": "#E5ECF6",
           "showlakes": true,
           "showland": true,
           "subunitcolor": "white"
          },
          "hoverlabel": {
           "align": "left"
          },
          "hovermode": "closest",
          "mapbox": {
           "style": "light"
          },
          "paper_bgcolor": "white",
          "plot_bgcolor": "#E5ECF6",
          "polar": {
           "angularaxis": {
            "gridcolor": "white",
            "linecolor": "white",
            "ticks": ""
           },
           "bgcolor": "#E5ECF6",
           "radialaxis": {
            "gridcolor": "white",
            "linecolor": "white",
            "ticks": ""
           }
          },
          "scene": {
           "xaxis": {
            "backgroundcolor": "#E5ECF6",
            "gridcolor": "white",
            "gridwidth": 2,
            "linecolor": "white",
            "showbackground": true,
            "ticks": "",
            "zerolinecolor": "white"
           },
           "yaxis": {
            "backgroundcolor": "#E5ECF6",
            "gridcolor": "white",
            "gridwidth": 2,
            "linecolor": "white",
            "showbackground": true,
            "ticks": "",
            "zerolinecolor": "white"
           },
           "zaxis": {
            "backgroundcolor": "#E5ECF6",
            "gridcolor": "white",
            "gridwidth": 2,
            "linecolor": "white",
            "showbackground": true,
            "ticks": "",
            "zerolinecolor": "white"
           }
          },
          "shapedefaults": {
           "line": {
            "color": "#2a3f5f"
           }
          },
          "ternary": {
           "aaxis": {
            "gridcolor": "white",
            "linecolor": "white",
            "ticks": ""
           },
           "baxis": {
            "gridcolor": "white",
            "linecolor": "white",
            "ticks": ""
           },
           "bgcolor": "#E5ECF6",
           "caxis": {
            "gridcolor": "white",
            "linecolor": "white",
            "ticks": ""
           }
          },
          "title": {
           "x": 0.05
          },
          "xaxis": {
           "automargin": true,
           "gridcolor": "white",
           "linecolor": "white",
           "ticks": "",
           "title": {
            "standoff": 15
           },
           "zerolinecolor": "white",
           "zerolinewidth": 2
          },
          "yaxis": {
           "automargin": true,
           "gridcolor": "white",
           "linecolor": "white",
           "ticks": "",
           "title": {
            "standoff": 15
           },
           "zerolinecolor": "white",
           "zerolinewidth": 2
          }
         }
        },
        "title": {
         "text": "Distribution of Top 10 cuisines in Banglore City"
        }
       }
      },
      "text/html": [
       "<div>                            <div id=\"51c068b3-9c84-4617-8c05-c73a975f05de\" class=\"plotly-graph-div\" style=\"height:525px; width:100%;\"></div>            <script type=\"text/javascript\">                require([\"plotly\"], function(Plotly) {                    window.PLOTLYENV=window.PLOTLYENV || {};                                    if (document.getElementById(\"51c068b3-9c84-4617-8c05-c73a975f05de\")) {                    Plotly.newPlot(                        \"51c068b3-9c84-4617-8c05-c73a975f05de\",                        [{\"domain\":{\"x\":[0.0,1.0],\"y\":[0.0,1.0]},\"hovertemplate\":\"Cuisine=%{label}<br>Frequency=%{value}<extra></extra>\",\"labels\":[\"Chinese\",\"NorthIndian\",\"SouthIndian\",\"Biryani\",\"FastFood\",\"Desserts\",\"Andhra\",\"Beverages\",\"American\",\"Seafood\"],\"legendgroup\":\"\",\"name\":\"\",\"showlegend\":true,\"values\":[35,32,23,18,16,15,12,9,8,8],\"type\":\"pie\",\"textinfo\":\"percent+label\",\"textposition\":\"inside\"}],                        {\"template\":{\"data\":{\"bar\":[{\"error_x\":{\"color\":\"#2a3f5f\"},\"error_y\":{\"color\":\"#2a3f5f\"},\"marker\":{\"line\":{\"color\":\"#E5ECF6\",\"width\":0.5},\"pattern\":{\"fillmode\":\"overlay\",\"size\":10,\"solidity\":0.2}},\"type\":\"bar\"}],\"barpolar\":[{\"marker\":{\"line\":{\"color\":\"#E5ECF6\",\"width\":0.5},\"pattern\":{\"fillmode\":\"overlay\",\"size\":10,\"solidity\":0.2}},\"type\":\"barpolar\"}],\"carpet\":[{\"aaxis\":{\"endlinecolor\":\"#2a3f5f\",\"gridcolor\":\"white\",\"linecolor\":\"white\",\"minorgridcolor\":\"white\",\"startlinecolor\":\"#2a3f5f\"},\"baxis\":{\"endlinecolor\":\"#2a3f5f\",\"gridcolor\":\"white\",\"linecolor\":\"white\",\"minorgridcolor\":\"white\",\"startlinecolor\":\"#2a3f5f\"},\"type\":\"carpet\"}],\"choropleth\":[{\"colorbar\":{\"outlinewidth\":0,\"ticks\":\"\"},\"type\":\"choropleth\"}],\"contour\":[{\"colorbar\":{\"outlinewidth\":0,\"ticks\":\"\"},\"colorscale\":[[0.0,\"#0d0887\"],[0.1111111111111111,\"#46039f\"],[0.2222222222222222,\"#7201a8\"],[0.3333333333333333,\"#9c179e\"],[0.4444444444444444,\"#bd3786\"],[0.5555555555555556,\"#d8576b\"],[0.6666666666666666,\"#ed7953\"],[0.7777777777777778,\"#fb9f3a\"],[0.8888888888888888,\"#fdca26\"],[1.0,\"#f0f921\"]],\"type\":\"contour\"}],\"contourcarpet\":[{\"colorbar\":{\"outlinewidth\":0,\"ticks\":\"\"},\"type\":\"contourcarpet\"}],\"heatmap\":[{\"colorbar\":{\"outlinewidth\":0,\"ticks\":\"\"},\"colorscale\":[[0.0,\"#0d0887\"],[0.1111111111111111,\"#46039f\"],[0.2222222222222222,\"#7201a8\"],[0.3333333333333333,\"#9c179e\"],[0.4444444444444444,\"#bd3786\"],[0.5555555555555556,\"#d8576b\"],[0.6666666666666666,\"#ed7953\"],[0.7777777777777778,\"#fb9f3a\"],[0.8888888888888888,\"#fdca26\"],[1.0,\"#f0f921\"]],\"type\":\"heatmap\"}],\"heatmapgl\":[{\"colorbar\":{\"outlinewidth\":0,\"ticks\":\"\"},\"colorscale\":[[0.0,\"#0d0887\"],[0.1111111111111111,\"#46039f\"],[0.2222222222222222,\"#7201a8\"],[0.3333333333333333,\"#9c179e\"],[0.4444444444444444,\"#bd3786\"],[0.5555555555555556,\"#d8576b\"],[0.6666666666666666,\"#ed7953\"],[0.7777777777777778,\"#fb9f3a\"],[0.8888888888888888,\"#fdca26\"],[1.0,\"#f0f921\"]],\"type\":\"heatmapgl\"}],\"histogram\":[{\"marker\":{\"pattern\":{\"fillmode\":\"overlay\",\"size\":10,\"solidity\":0.2}},\"type\":\"histogram\"}],\"histogram2d\":[{\"colorbar\":{\"outlinewidth\":0,\"ticks\":\"\"},\"colorscale\":[[0.0,\"#0d0887\"],[0.1111111111111111,\"#46039f\"],[0.2222222222222222,\"#7201a8\"],[0.3333333333333333,\"#9c179e\"],[0.4444444444444444,\"#bd3786\"],[0.5555555555555556,\"#d8576b\"],[0.6666666666666666,\"#ed7953\"],[0.7777777777777778,\"#fb9f3a\"],[0.8888888888888888,\"#fdca26\"],[1.0,\"#f0f921\"]],\"type\":\"histogram2d\"}],\"histogram2dcontour\":[{\"colorbar\":{\"outlinewidth\":0,\"ticks\":\"\"},\"colorscale\":[[0.0,\"#0d0887\"],[0.1111111111111111,\"#46039f\"],[0.2222222222222222,\"#7201a8\"],[0.3333333333333333,\"#9c179e\"],[0.4444444444444444,\"#bd3786\"],[0.5555555555555556,\"#d8576b\"],[0.6666666666666666,\"#ed7953\"],[0.7777777777777778,\"#fb9f3a\"],[0.8888888888888888,\"#fdca26\"],[1.0,\"#f0f921\"]],\"type\":\"histogram2dcontour\"}],\"mesh3d\":[{\"colorbar\":{\"outlinewidth\":0,\"ticks\":\"\"},\"type\":\"mesh3d\"}],\"parcoords\":[{\"line\":{\"colorbar\":{\"outlinewidth\":0,\"ticks\":\"\"}},\"type\":\"parcoords\"}],\"pie\":[{\"automargin\":true,\"type\":\"pie\"}],\"scatter\":[{\"marker\":{\"colorbar\":{\"outlinewidth\":0,\"ticks\":\"\"}},\"type\":\"scatter\"}],\"scatter3d\":[{\"line\":{\"colorbar\":{\"outlinewidth\":0,\"ticks\":\"\"}},\"marker\":{\"colorbar\":{\"outlinewidth\":0,\"ticks\":\"\"}},\"type\":\"scatter3d\"}],\"scattercarpet\":[{\"marker\":{\"colorbar\":{\"outlinewidth\":0,\"ticks\":\"\"}},\"type\":\"scattercarpet\"}],\"scattergeo\":[{\"marker\":{\"colorbar\":{\"outlinewidth\":0,\"ticks\":\"\"}},\"type\":\"scattergeo\"}],\"scattergl\":[{\"marker\":{\"colorbar\":{\"outlinewidth\":0,\"ticks\":\"\"}},\"type\":\"scattergl\"}],\"scattermapbox\":[{\"marker\":{\"colorbar\":{\"outlinewidth\":0,\"ticks\":\"\"}},\"type\":\"scattermapbox\"}],\"scatterpolar\":[{\"marker\":{\"colorbar\":{\"outlinewidth\":0,\"ticks\":\"\"}},\"type\":\"scatterpolar\"}],\"scatterpolargl\":[{\"marker\":{\"colorbar\":{\"outlinewidth\":0,\"ticks\":\"\"}},\"type\":\"scatterpolargl\"}],\"scatterternary\":[{\"marker\":{\"colorbar\":{\"outlinewidth\":0,\"ticks\":\"\"}},\"type\":\"scatterternary\"}],\"surface\":[{\"colorbar\":{\"outlinewidth\":0,\"ticks\":\"\"},\"colorscale\":[[0.0,\"#0d0887\"],[0.1111111111111111,\"#46039f\"],[0.2222222222222222,\"#7201a8\"],[0.3333333333333333,\"#9c179e\"],[0.4444444444444444,\"#bd3786\"],[0.5555555555555556,\"#d8576b\"],[0.6666666666666666,\"#ed7953\"],[0.7777777777777778,\"#fb9f3a\"],[0.8888888888888888,\"#fdca26\"],[1.0,\"#f0f921\"]],\"type\":\"surface\"}],\"table\":[{\"cells\":{\"fill\":{\"color\":\"#EBF0F8\"},\"line\":{\"color\":\"white\"}},\"header\":{\"fill\":{\"color\":\"#C8D4E3\"},\"line\":{\"color\":\"white\"}},\"type\":\"table\"}]},\"layout\":{\"annotationdefaults\":{\"arrowcolor\":\"#2a3f5f\",\"arrowhead\":0,\"arrowwidth\":1},\"autotypenumbers\":\"strict\",\"coloraxis\":{\"colorbar\":{\"outlinewidth\":0,\"ticks\":\"\"}},\"colorscale\":{\"diverging\":[[0,\"#8e0152\"],[0.1,\"#c51b7d\"],[0.2,\"#de77ae\"],[0.3,\"#f1b6da\"],[0.4,\"#fde0ef\"],[0.5,\"#f7f7f7\"],[0.6,\"#e6f5d0\"],[0.7,\"#b8e186\"],[0.8,\"#7fbc41\"],[0.9,\"#4d9221\"],[1,\"#276419\"]],\"sequential\":[[0.0,\"#0d0887\"],[0.1111111111111111,\"#46039f\"],[0.2222222222222222,\"#7201a8\"],[0.3333333333333333,\"#9c179e\"],[0.4444444444444444,\"#bd3786\"],[0.5555555555555556,\"#d8576b\"],[0.6666666666666666,\"#ed7953\"],[0.7777777777777778,\"#fb9f3a\"],[0.8888888888888888,\"#fdca26\"],[1.0,\"#f0f921\"]],\"sequentialminus\":[[0.0,\"#0d0887\"],[0.1111111111111111,\"#46039f\"],[0.2222222222222222,\"#7201a8\"],[0.3333333333333333,\"#9c179e\"],[0.4444444444444444,\"#bd3786\"],[0.5555555555555556,\"#d8576b\"],[0.6666666666666666,\"#ed7953\"],[0.7777777777777778,\"#fb9f3a\"],[0.8888888888888888,\"#fdca26\"],[1.0,\"#f0f921\"]]},\"colorway\":[\"#636efa\",\"#EF553B\",\"#00cc96\",\"#ab63fa\",\"#FFA15A\",\"#19d3f3\",\"#FF6692\",\"#B6E880\",\"#FF97FF\",\"#FECB52\"],\"font\":{\"color\":\"#2a3f5f\"},\"geo\":{\"bgcolor\":\"white\",\"lakecolor\":\"white\",\"landcolor\":\"#E5ECF6\",\"showlakes\":true,\"showland\":true,\"subunitcolor\":\"white\"},\"hoverlabel\":{\"align\":\"left\"},\"hovermode\":\"closest\",\"mapbox\":{\"style\":\"light\"},\"paper_bgcolor\":\"white\",\"plot_bgcolor\":\"#E5ECF6\",\"polar\":{\"angularaxis\":{\"gridcolor\":\"white\",\"linecolor\":\"white\",\"ticks\":\"\"},\"bgcolor\":\"#E5ECF6\",\"radialaxis\":{\"gridcolor\":\"white\",\"linecolor\":\"white\",\"ticks\":\"\"}},\"scene\":{\"xaxis\":{\"backgroundcolor\":\"#E5ECF6\",\"gridcolor\":\"white\",\"gridwidth\":2,\"linecolor\":\"white\",\"showbackground\":true,\"ticks\":\"\",\"zerolinecolor\":\"white\"},\"yaxis\":{\"backgroundcolor\":\"#E5ECF6\",\"gridcolor\":\"white\",\"gridwidth\":2,\"linecolor\":\"white\",\"showbackground\":true,\"ticks\":\"\",\"zerolinecolor\":\"white\"},\"zaxis\":{\"backgroundcolor\":\"#E5ECF6\",\"gridcolor\":\"white\",\"gridwidth\":2,\"linecolor\":\"white\",\"showbackground\":true,\"ticks\":\"\",\"zerolinecolor\":\"white\"}},\"shapedefaults\":{\"line\":{\"color\":\"#2a3f5f\"}},\"ternary\":{\"aaxis\":{\"gridcolor\":\"white\",\"linecolor\":\"white\",\"ticks\":\"\"},\"baxis\":{\"gridcolor\":\"white\",\"linecolor\":\"white\",\"ticks\":\"\"},\"bgcolor\":\"#E5ECF6\",\"caxis\":{\"gridcolor\":\"white\",\"linecolor\":\"white\",\"ticks\":\"\"}},\"title\":{\"x\":0.05},\"xaxis\":{\"automargin\":true,\"gridcolor\":\"white\",\"linecolor\":\"white\",\"ticks\":\"\",\"title\":{\"standoff\":15},\"zerolinecolor\":\"white\",\"zerolinewidth\":2},\"yaxis\":{\"automargin\":true,\"gridcolor\":\"white\",\"linecolor\":\"white\",\"ticks\":\"\",\"title\":{\"standoff\":15},\"zerolinecolor\":\"white\",\"zerolinewidth\":2}}},\"legend\":{\"tracegroupgap\":0},\"title\":{\"text\":\"Distribution of Top 10 cuisines in Banglore City\"}},                        {\"responsive\": true}                    ).then(function(){\n",
       "                            \n",
       "var gd = document.getElementById('51c068b3-9c84-4617-8c05-c73a975f05de');\n",
       "var x = new MutationObserver(function (mutations, observer) {{\n",
       "        var display = window.getComputedStyle(gd).display;\n",
       "        if (!display || display === 'none') {{\n",
       "            console.log([gd, 'removed!']);\n",
       "            Plotly.purge(gd);\n",
       "            observer.disconnect();\n",
       "        }}\n",
       "}});\n",
       "\n",
       "// Listen for the removal of the full notebook cells\n",
       "var notebookContainer = gd.closest('#notebook-container');\n",
       "if (notebookContainer) {{\n",
       "    x.observe(notebookContainer, {childList: true});\n",
       "}}\n",
       "\n",
       "// Listen for the clearing of the current output cell\n",
       "var outputEl = gd.closest('.output');\n",
       "if (outputEl) {{\n",
       "    x.observe(outputEl, {childList: true});\n",
       "}}\n",
       "\n",
       "                        })                };                });            </script>        </div>"
      ]
     },
     "metadata": {},
     "output_type": "display_data"
    }
   ],
   "source": [
    "fig=px.pie(data_frame=df_cuisine_top,names=df_cuisine_top['Cuisine'],\n",
    "          values=df_cuisine_top['Frequency'],\n",
    "          title='Distribution of Top 10 cuisines in Banglore City')\n",
    "fig.update_traces(textposition='inside',textinfo='percent+label')\n",
    "fig.show()"
   ]
  },
  {
   "cell_type": "code",
   "execution_count": 91,
   "id": "bdf91194",
   "metadata": {},
   "outputs": [
    {
     "data": {
      "image/png": "[encoded data removed]",
      "text/plain": [
       "<Figure size 720x504 with 1 Axes>"
      ]
     },
     "metadata": {},
     "output_type": "display_data"
    }
   ],
   "source": [
    "fig = plt.figure(figsize =(10, 7))\n",
    "plt.pie(df_cuisine_top.Frequency, labels =df_cuisine_top.Cuisine)\n",
    " \n",
    "# show plot\n",
    "plt.show()"
   ]
  },
  {
   "cell_type": "code",
   "execution_count": 93,
   "id": "fb23bb90",
   "metadata": {},
   "outputs": [
    {
     "data": {
      "image/png": "[encoded data removed]",
      "text/plain": [
       "<Figure size 432x288 with 1 Axes>"
      ]
     },
     "metadata": {},
     "output_type": "display_data"
    }
   ],
   "source": [
    "palette_color = sns.color_palette('bright') \n",
    "  \n",
    "# plotting data on chart \n",
    "plt.pie(df_cuisine_top.Frequency, labels=df_cuisine_top.Cuisine, colors=palette_color, autopct='%.0f%%') \n",
    "  \n",
    "# displaying chart \n",
    "plt.show() "
   ]
  },
  {
   "cell_type": "code",
   "execution_count": 61,
   "id": "8f756d5e",
   "metadata": {},
   "outputs": [],
   "source": [
    "df_revenue=df[['Area','Cost_for_Two']]"
   ]
  },
  {
   "cell_type": "code",
   "execution_count": 62,
   "id": "e59f583c",
   "metadata": {},
   "outputs": [
    {
     "data": {
      "text/html": [
       "<div>\n",
       "<style scoped>\n",
       "    .dataframe tbody tr th:only-of-type {\n",
       "        vertical-align: middle;\n",
       "    }\n",
       "\n",
       "    .dataframe tbody tr th {\n",
       "        vertical-align: top;\n",
       "    }\n",
       "\n",
       "    .dataframe thead th {\n",
       "        text-align: right;\n",
       "    }\n",
       "</style>\n",
       "<table border=\"1\" class=\"dataframe\">\n",
       "  <thead>\n",
       "    <tr style=\"text-align: right;\">\n",
       "      <th></th>\n",
       "      <th>Area</th>\n",
       "      <th>Cost_for_Two</th>\n",
       "    </tr>\n",
       "  </thead>\n",
       "  <tbody>\n",
       "    <tr>\n",
       "      <th>0</th>\n",
       "      <td>Koramangala</td>\n",
       "      <td>150</td>\n",
       "    </tr>\n",
       "    <tr>\n",
       "      <th>1</th>\n",
       "      <td>HSR</td>\n",
       "      <td>400</td>\n",
       "    </tr>\n",
       "    <tr>\n",
       "      <th>2</th>\n",
       "      <td>Koramangala</td>\n",
       "      <td>126</td>\n",
       "    </tr>\n",
       "    <tr>\n",
       "      <th>3</th>\n",
       "      <td>HSR</td>\n",
       "      <td>400</td>\n",
       "    </tr>\n",
       "    <tr>\n",
       "      <th>4</th>\n",
       "      <td>Koramangala</td>\n",
       "      <td>450</td>\n",
       "    </tr>\n",
       "    <tr>\n",
       "      <th>...</th>\n",
       "      <td>...</td>\n",
       "      <td>...</td>\n",
       "    </tr>\n",
       "    <tr>\n",
       "      <th>113</th>\n",
       "      <td>Koramangala</td>\n",
       "      <td>219</td>\n",
       "    </tr>\n",
       "    <tr>\n",
       "      <th>114</th>\n",
       "      <td>BTM</td>\n",
       "      <td>600</td>\n",
       "    </tr>\n",
       "    <tr>\n",
       "      <th>115</th>\n",
       "      <td>Koramangala</td>\n",
       "      <td>193</td>\n",
       "    </tr>\n",
       "    <tr>\n",
       "      <th>116</th>\n",
       "      <td>Koramangala</td>\n",
       "      <td>200</td>\n",
       "    </tr>\n",
       "    <tr>\n",
       "      <th>117</th>\n",
       "      <td>Koramangala</td>\n",
       "      <td>400</td>\n",
       "    </tr>\n",
       "  </tbody>\n",
       "</table>\n",
       "<p>117 rows × 2 columns</p>\n",
       "</div>"
      ],
      "text/plain": [
       "            Area  Cost_for_Two\n",
       "0    Koramangala           150\n",
       "1            HSR           400\n",
       "2    Koramangala           126\n",
       "3            HSR           400\n",
       "4    Koramangala           450\n",
       "..           ...           ...\n",
       "113  Koramangala           219\n",
       "114          BTM           600\n",
       "115  Koramangala           193\n",
       "116  Koramangala           200\n",
       "117  Koramangala           400\n",
       "\n",
       "[117 rows x 2 columns]"
      ]
     },
     "execution_count": 62,
     "metadata": {},
     "output_type": "execute_result"
    }
   ],
   "source": [
    "df_revenue"
   ]
  },
  {
   "cell_type": "code",
   "execution_count": 85,
   "id": "1e8f95f5",
   "metadata": {},
   "outputs": [
    {
     "data": {
      "application/vnd.plotly.v1+json": {
       "config": {
        "plotlyServerURL": "https://plot.ly"
       },
       "data": [
        {
         "domain": {
          "x": [
           0,
           1
          ],
          "y": [
           0,
           1
          ]
         },
         "hovertemplate": "Area=%{label}<br>Cost_for_Two=%{value}<extra></extra>",
         "labels": [
          "Koramangala",
          "HSR",
          "Koramangala",
          "HSR",
          "Koramangala",
          "Koramangala",
          "BTM",
          "BTM",
          "HSR",
          "Koramangala",
          "BTM",
          "Koramangala",
          "Koramangala",
          "Koramangala",
          "Koramangala",
          "Koramangala",
          "Koramangala",
          "BTM",
          "Koramangala",
          "HSR",
          "BTM",
          "Koramangala",
          "BTM",
          "Koramangala",
          "HSR",
          "BTM",
          "Koramangala",
          "BTM",
          "Koramangala",
          "Koramangala",
          "Koramangala",
          "BTM",
          "Koramangala",
          "BTM",
          "Koramangala",
          "BTM",
          "HSR",
          "HSR",
          "Koramangala",
          "HSR",
          "BTM",
          "HSR",
          "BTM",
          "Koramangala",
          "BTM",
          "BTM",
          "Koramangala",
          "Koramangala",
          "Koramangala",
          "BTM",
          "Koramangala",
          "BTM",
          "Koramangala",
          "Koramangala",
          "Koramangala",
          "Koramangala",
          "Koramangala",
          "HSR",
          "HSR",
          "Koramangala",
          "BTM",
          "HSR",
          "Koramangala",
          "Koramangala",
          "Koramangala",
          "BTM",
          "BTM",
          "Koramangala",
          "BTM",
          "BTM",
          "BTM",
          "HSR",
          "Koramangala",
          "HSR",
          "Jayanagar",
          "Koramangala",
          "BTM",
          "Koramangala",
          "Koramangala",
          "BTM",
          "BTM",
          "Koramangala",
          "Koramangala",
          "BTM",
          "BTM",
          "Koramangala",
          "BTM",
          "BTM",
          "Koramangala",
          "Koramangala",
          "Koramangala",
          "Koramangala",
          "BTM",
          "Koramangala",
          "Koramangala",
          "Koramangala",
          "Koramangala",
          "Koramangala",
          "HSR",
          "Koramangala",
          "HSR",
          "Koramangala",
          "Koramangala",
          "BTM",
          "Koramangala",
          "BTM",
          "HSR",
          "Koramangala",
          "Koramangala",
          "BTM",
          "Koramangala",
          "Koramangala",
          "Koramangala",
          "BTM",
          "Koramangala",
          "Koramangala",
          "Koramangala"
         ],
         "legendgroup": "",
         "name": "",
         "showlegend": true,
         "textinfo": "percent+label",
         "textposition": "inside",
         "type": "pie",
         "values": [
          150,
          400,
          126,
          400,
          450,
          350,
          200,
          500,
          350,
          150,
          500,
          247,
          550,
          450,
          450,
          150,
          200,
          200,
          300,
          350,
          300,
          129,
          400,
          300,
          150,
          250,
          250,
          350,
          350,
          500,
          200,
          300,
          150,
          268,
          600,
          450,
          600,
          300,
          250,
          300,
          300,
          450,
          250,
          250,
          200,
          250,
          600,
          350,
          527,
          300,
          250,
          150,
          350,
          130,
          257,
          200,
          400,
          300,
          400,
          200,
          280,
          250,
          399,
          400,
          150,
          250,
          220,
          300,
          300,
          250,
          400,
          200,
          600,
          800,
          300,
          350,
          300,
          300,
          200,
          100,
          450,
          350,
          150,
          250,
          400,
          450,
          500,
          350,
          178,
          100,
          400,
          250,
          500,
          500,
          250,
          120,
          250,
          251,
          650,
          132,
          200,
          350,
          300,
          350,
          300,
          350,
          550,
          350,
          153,
          500,
          200,
          500,
          219,
          600,
          193,
          200,
          400
         ]
        }
       ],
       "layout": {
        "legend": {
         "tracegroupgap": 0
        },
        "template": {
         "data": {
          "bar": [
           {
            "error_x": {
             "color": "#2a3f5f"
            },
            "error_y": {
             "color": "#2a3f5f"
            },
            "marker": {
             "line": {
              "color": "#E5ECF6",
              "width": 0.5
             },
             "pattern": {
              "fillmode": "overlay",
              "size": 10,
              "solidity": 0.2
             }
            },
            "type": "bar"
           }
          ],
          "barpolar": [
           {
            "marker": {
             "line": {
              "color": "#E5ECF6",
              "width": 0.5
             },
             "pattern": {
              "fillmode": "overlay",
              "size": 10,
              "solidity": 0.2
             }
            },
            "type": "barpolar"
           }
          ],
          "carpet": [
           {
            "aaxis": {
             "endlinecolor": "#2a3f5f",
             "gridcolor": "white",
             "linecolor": "white",
             "minorgridcolor": "white",
             "startlinecolor": "#2a3f5f"
            },
            "baxis": {
             "endlinecolor": "#2a3f5f",
             "gridcolor": "white",
             "linecolor": "white",
             "minorgridcolor": "white",
             "startlinecolor": "#2a3f5f"
            },
            "type": "carpet"
           }
          ],
          "choropleth": [
           {
            "colorbar": {
             "outlinewidth": 0,
             "ticks": ""
            },
            "type": "choropleth"
           }
          ],
          "contour": [
           {
            "colorbar": {
             "outlinewidth": 0,
             "ticks": ""
            },
            "colorscale": [
             [
              0,
              "#0d0887"
             ],
             [
              0.1111111111111111,
              "#46039f"
             ],
             [
              0.2222222222222222,
              "#7201a8"
             ],
             [
              0.3333333333333333,
              "#9c179e"
             ],
             [
              0.4444444444444444,
              "#bd3786"
             ],
             [
              0.5555555555555556,
              "#d8576b"
             ],
             [
              0.6666666666666666,
              "#ed7953"
             ],
             [
              0.7777777777777778,
              "#fb9f3a"
             ],
             [
              0.8888888888888888,
              "#fdca26"
             ],
             [
              1,
              "#f0f921"
             ]
            ],
            "type": "contour"
           }
          ],
          "contourcarpet": [
           {
            "colorbar": {
             "outlinewidth": 0,
             "ticks": ""
            },
            "type": "contourcarpet"
           }
          ],
          "heatmap": [
           {
            "colorbar": {
             "outlinewidth": 0,
             "ticks": ""
            },
            "colorscale": [
             [
              0,
              "#0d0887"
             ],
             [
              0.1111111111111111,
              "#46039f"
             ],
             [
              0.2222222222222222,
              "#7201a8"
             ],
             [
              0.3333333333333333,
              "#9c179e"
             ],
             [
              0.4444444444444444,
              "#bd3786"
             ],
             [
              0.5555555555555556,
              "#d8576b"
             ],
             [
              0.6666666666666666,
              "#ed7953"
             ],
             [
              0.7777777777777778,
              "#fb9f3a"
             ],
             [
              0.8888888888888888,
              "#fdca26"
             ],
             [
              1,
              "#f0f921"
             ]
            ],
            "type": "heatmap"
           }
          ],
          "heatmapgl": [
           {
            "colorbar": {
             "outlinewidth": 0,
             "ticks": ""
            },
            "colorscale": [
             [
              0,
              "#0d0887"
             ],
             [
              0.1111111111111111,
              "#46039f"
             ],
             [
              0.2222222222222222,
              "#7201a8"
             ],
             [
              0.3333333333333333,
              "#9c179e"
             ],
             [
              0.4444444444444444,
              "#bd3786"
             ],
             [
              0.5555555555555556,
              "#d8576b"
             ],
             [
              0.6666666666666666,
              "#ed7953"
             ],
             [
              0.7777777777777778,
              "#fb9f3a"
             ],
             [
              0.8888888888888888,
              "#fdca26"
             ],
             [
              1,
              "#f0f921"
             ]
            ],
            "type": "heatmapgl"
           }
          ],
          "histogram": [
           {
            "marker": {
             "pattern": {
              "fillmode": "overlay",
              "size": 10,
              "solidity": 0.2
             }
            },
            "type": "histogram"
           }
          ],
          "histogram2d": [
           {
            "colorbar": {
             "outlinewidth": 0,
             "ticks": ""
            },
            "colorscale": [
             [
              0,
              "#0d0887"
             ],
             [
              0.1111111111111111,
              "#46039f"
             ],
             [
              0.2222222222222222,
              "#7201a8"
             ],
             [
              0.3333333333333333,
              "#9c179e"
             ],
             [
              0.4444444444444444,
              "#bd3786"
             ],
             [
              0.5555555555555556,
              "#d8576b"
             ],
             [
              0.6666666666666666,
              "#ed7953"
             ],
             [
              0.7777777777777778,
              "#fb9f3a"
             ],
             [
              0.8888888888888888,
              "#fdca26"
             ],
             [
              1,
              "#f0f921"
             ]
            ],
            "type": "histogram2d"
           }
          ],
          "histogram2dcontour": [
           {
            "colorbar": {
             "outlinewidth": 0,
             "ticks": ""
            },
            "colorscale": [
             [
              0,
              "#0d0887"
             ],
             [
              0.1111111111111111,
              "#46039f"
             ],
             [
              0.2222222222222222,
              "#7201a8"
             ],
             [
              0.3333333333333333,
              "#9c179e"
             ],
             [
              0.4444444444444444,
              "#bd3786"
             ],
             [
              0.5555555555555556,
              "#d8576b"
             ],
             [
              0.6666666666666666,
              "#ed7953"
             ],
             [
              0.7777777777777778,
              "#fb9f3a"
             ],
             [
              0.8888888888888888,
              "#fdca26"
             ],
             [
              1,
              "#f0f921"
             ]
            ],
            "type": "histogram2dcontour"
           }
          ],
          "mesh3d": [
           {
            "colorbar": {
             "outlinewidth": 0,
             "ticks": ""
            },
            "type": "mesh3d"
           }
          ],
          "parcoords": [
           {
            "line": {
             "colorbar": {
              "outlinewidth": 0,
              "ticks": ""
             }
            },
            "type": "parcoords"
           }
          ],
          "pie": [
           {
            "automargin": true,
            "type": "pie"
           }
          ],
          "scatter": [
           {
            "marker": {
             "colorbar": {
              "outlinewidth": 0,
              "ticks": ""
             }
            },
            "type": "scatter"
           }
          ],
          "scatter3d": [
           {
            "line": {
             "colorbar": {
              "outlinewidth": 0,
              "ticks": ""
             }
            },
            "marker": {
             "colorbar": {
              "outlinewidth": 0,
              "ticks": ""
             }
            },
            "type": "scatter3d"
           }
          ],
          "scattercarpet": [
           {
            "marker": {
             "colorbar": {
              "outlinewidth": 0,
              "ticks": ""
             }
            },
            "type": "scattercarpet"
           }
          ],
          "scattergeo": [
           {
            "marker": {
             "colorbar": {
              "outlinewidth": 0,
              "ticks": ""
             }
            },
            "type": "scattergeo"
           }
          ],
          "scattergl": [
           {
            "marker": {
             "colorbar": {
              "outlinewidth": 0,
              "ticks": ""
             }
            },
            "type": "scattergl"
           }
          ],
          "scattermapbox": [
           {
            "marker": {
             "colorbar": {
              "outlinewidth": 0,
              "ticks": ""
             }
            },
            "type": "scattermapbox"
           }
          ],
          "scatterpolar": [
           {
            "marker": {
             "colorbar": {
              "outlinewidth": 0,
              "ticks": ""
             }
            },
            "type": "scatterpolar"
           }
          ],
          "scatterpolargl": [
           {
            "marker": {
             "colorbar": {
              "outlinewidth": 0,
              "ticks": ""
             }
            },
            "type": "scatterpolargl"
           }
          ],
          "scatterternary": [
           {
            "marker": {
             "colorbar": {
              "outlinewidth": 0,
              "ticks": ""
             }
            },
            "type": "scatterternary"
           }
          ],
          "surface": [
           {
            "colorbar": {
             "outlinewidth": 0,
             "ticks": ""
            },
            "colorscale": [
             [
              0,
              "#0d0887"
             ],
             [
              0.1111111111111111,
              "#46039f"
             ],
             [
              0.2222222222222222,
              "#7201a8"
             ],
             [
              0.3333333333333333,
              "#9c179e"
             ],
             [
              0.4444444444444444,
              "#bd3786"
             ],
             [
              0.5555555555555556,
              "#d8576b"
             ],
             [
              0.6666666666666666,
              "#ed7953"
             ],
             [
              0.7777777777777778,
              "#fb9f3a"
             ],
             [
              0.8888888888888888,
              "#fdca26"
             ],
             [
              1,
              "#f0f921"
             ]
            ],
            "type": "surface"
           }
          ],
          "table": [
           {
            "cells": {
             "fill": {
              "color": "#EBF0F8"
             },
             "line": {
              "color": "white"
             }
            },
            "header": {
             "fill": {
              "color": "#C8D4E3"
             },
             "line": {
              "color": "white"
             }
            },
            "type": "table"
           }
          ]
         },
         "layout": {
          "annotationdefaults": {
           "arrowcolor": "#2a3f5f",
           "arrowhead": 0,
           "arrowwidth": 1
          },
          "autotypenumbers": "strict",
          "coloraxis": {
           "colorbar": {
            "outlinewidth": 0,
            "ticks": ""
           }
          },
          "colorscale": {
           "diverging": [
            [
             0,
             "#8e0152"
            ],
            [
             0.1,
             "#c51b7d"
            ],
            [
             0.2,
             "#de77ae"
            ],
            [
             0.3,
             "#f1b6da"
            ],
            [
             0.4,
             "#fde0ef"
            ],
            [
             0.5,
             "#f7f7f7"
            ],
            [
             0.6,
             "#e6f5d0"
            ],
            [
             0.7,
             "#b8e186"
            ],
            [
             0.8,
             "#7fbc41"
            ],
            [
             0.9,
             "#4d9221"
            ],
            [
             1,
             "#276419"
            ]
           ],
           "sequential": [
            [
             0,
             "#0d0887"
            ],
            [
             0.1111111111111111,
             "#46039f"
            ],
            [
             0.2222222222222222,
             "#7201a8"
            ],
            [
             0.3333333333333333,
             "#9c179e"
            ],
            [
             0.4444444444444444,
             "#bd3786"
            ],
            [
             0.5555555555555556,
             "#d8576b"
            ],
            [
             0.6666666666666666,
             "#ed7953"
            ],
            [
             0.7777777777777778,
             "#fb9f3a"
            ],
            [
             0.8888888888888888,
             "#fdca26"
            ],
            [
             1,
             "#f0f921"
            ]
           ],
           "sequentialminus": [
            [
             0,
             "#0d0887"
            ],
            [
             0.1111111111111111,
             "#46039f"
            ],
            [
             0.2222222222222222,
             "#7201a8"
            ],
            [
             0.3333333333333333,
             "#9c179e"
            ],
            [
             0.4444444444444444,
             "#bd3786"
            ],
            [
             0.5555555555555556,
             "#d8576b"
            ],
            [
             0.6666666666666666,
             "#ed7953"
            ],
            [
             0.7777777777777778,
             "#fb9f3a"
            ],
            [
             0.8888888888888888,
             "#fdca26"
            ],
            [
             1,
             "#f0f921"
            ]
           ]
          },
          "colorway": [
           "#636efa",
           "#EF553B",
           "#00cc96",
           "#ab63fa",
           "#FFA15A",
           "#19d3f3",
           "#FF6692",
           "#B6E880",
           "#FF97FF",
           "#FECB52"
          ],
          "font": {
           "color": "#2a3f5f"
          },
          "geo": {
           "bgcolor": "white",
           "lakecolor": "white",
           "landcolor": "#E5ECF6",
           "showlakes": true,
           "showland": true,
           "subunitcolor": "white"
          },
          "hoverlabel": {
           "align": "left"
          },
          "hovermode": "closest",
          "mapbox": {
           "style": "light"
          },
          "paper_bgcolor": "white",
          "plot_bgcolor": "#E5ECF6",
          "polar": {
           "angularaxis": {
            "gridcolor": "white",
            "linecolor": "white",
            "ticks": ""
           },
           "bgcolor": "#E5ECF6",
           "radialaxis": {
            "gridcolor": "white",
            "linecolor": "white",
            "ticks": ""
           }
          },
          "scene": {
           "xaxis": {
            "backgroundcolor": "#E5ECF6",
            "gridcolor": "white",
            "gridwidth": 2,
            "linecolor": "white",
            "showbackground": true,
            "ticks": "",
            "zerolinecolor": "white"
           },
           "yaxis": {
            "backgroundcolor": "#E5ECF6",
            "gridcolor": "white",
            "gridwidth": 2,
            "linecolor": "white",
            "showbackground": true,
            "ticks": "",
            "zerolinecolor": "white"
           },
           "zaxis": {
            "backgroundcolor": "#E5ECF6",
            "gridcolor": "white",
            "gridwidth": 2,
            "linecolor": "white",
            "showbackground": true,
            "ticks": "",
            "zerolinecolor": "white"
           }
          },
          "shapedefaults": {
           "line": {
            "color": "#2a3f5f"
           }
          },
          "ternary": {
           "aaxis": {
            "gridcolor": "white",
            "linecolor": "white",
            "ticks": ""
           },
           "baxis": {
            "gridcolor": "white",
            "linecolor": "white",
            "ticks": ""
           },
           "bgcolor": "#E5ECF6",
           "caxis": {
            "gridcolor": "white",
            "linecolor": "white",
            "ticks": ""
           }
          },
          "title": {
           "x": 0.05
          },
          "xaxis": {
           "automargin": true,
           "gridcolor": "white",
           "linecolor": "white",
           "ticks": "",
           "title": {
            "standoff": 15
           },
           "zerolinecolor": "white",
           "zerolinewidth": 2
          },
          "yaxis": {
           "automargin": true,
           "gridcolor": "white",
           "linecolor": "white",
           "ticks": "",
           "title": {
            "standoff": 15
           },
           "zerolinecolor": "white",
           "zerolinewidth": 2
          }
         }
        },
        "title": {
         "text": "Area wise Revenue Analysis"
        }
       }
      },
      "text/html": [
       "<div>                            <div id=\"739b3b48-8e6c-4ef1-b592-05d50bc6ee4d\" class=\"plotly-graph-div\" style=\"height:525px; width:100%;\"></div>            <script type=\"text/javascript\">                require([\"plotly\"], function(Plotly) {                    window.PLOTLYENV=window.PLOTLYENV || {};                                    if (document.getElementById(\"739b3b48-8e6c-4ef1-b592-05d50bc6ee4d\")) {                    Plotly.newPlot(                        \"739b3b48-8e6c-4ef1-b592-05d50bc6ee4d\",                        [{\"domain\":{\"x\":[0.0,1.0],\"y\":[0.0,1.0]},\"hovertemplate\":\"Area=%{label}<br>Cost_for_Two=%{value}<extra></extra>\",\"labels\":[\"Koramangala\",\"HSR\",\"Koramangala\",\"HSR\",\"Koramangala\",\"Koramangala\",\"BTM\",\"BTM\",\"HSR\",\"Koramangala\",\"BTM\",\"Koramangala\",\"Koramangala\",\"Koramangala\",\"Koramangala\",\"Koramangala\",\"Koramangala\",\"BTM\",\"Koramangala\",\"HSR\",\"BTM\",\"Koramangala\",\"BTM\",\"Koramangala\",\"HSR\",\"BTM\",\"Koramangala\",\"BTM\",\"Koramangala\",\"Koramangala\",\"Koramangala\",\"BTM\",\"Koramangala\",\"BTM\",\"Koramangala\",\"BTM\",\"HSR\",\"HSR\",\"Koramangala\",\"HSR\",\"BTM\",\"HSR\",\"BTM\",\"Koramangala\",\"BTM\",\"BTM\",\"Koramangala\",\"Koramangala\",\"Koramangala\",\"BTM\",\"Koramangala\",\"BTM\",\"Koramangala\",\"Koramangala\",\"Koramangala\",\"Koramangala\",\"Koramangala\",\"HSR\",\"HSR\",\"Koramangala\",\"BTM\",\"HSR\",\"Koramangala\",\"Koramangala\",\"Koramangala\",\"BTM\",\"BTM\",\"Koramangala\",\"BTM\",\"BTM\",\"BTM\",\"HSR\",\"Koramangala\",\"HSR\",\"Jayanagar\",\"Koramangala\",\"BTM\",\"Koramangala\",\"Koramangala\",\"BTM\",\"BTM\",\"Koramangala\",\"Koramangala\",\"BTM\",\"BTM\",\"Koramangala\",\"BTM\",\"BTM\",\"Koramangala\",\"Koramangala\",\"Koramangala\",\"Koramangala\",\"BTM\",\"Koramangala\",\"Koramangala\",\"Koramangala\",\"Koramangala\",\"Koramangala\",\"HSR\",\"Koramangala\",\"HSR\",\"Koramangala\",\"Koramangala\",\"BTM\",\"Koramangala\",\"BTM\",\"HSR\",\"Koramangala\",\"Koramangala\",\"BTM\",\"Koramangala\",\"Koramangala\",\"Koramangala\",\"BTM\",\"Koramangala\",\"Koramangala\",\"Koramangala\"],\"legendgroup\":\"\",\"name\":\"\",\"showlegend\":true,\"values\":[150,400,126,400,450,350,200,500,350,150,500,247,550,450,450,150,200,200,300,350,300,129,400,300,150,250,250,350,350,500,200,300,150,268,600,450,600,300,250,300,300,450,250,250,200,250,600,350,527,300,250,150,350,130,257,200,400,300,400,200,280,250,399,400,150,250,220,300,300,250,400,200,600,800,300,350,300,300,200,100,450,350,150,250,400,450,500,350,178,100,400,250,500,500,250,120,250,251,650,132,200,350,300,350,300,350,550,350,153,500,200,500,219,600,193,200,400],\"type\":\"pie\",\"textinfo\":\"percent+label\",\"textposition\":\"inside\"}],                        {\"template\":{\"data\":{\"bar\":[{\"error_x\":{\"color\":\"#2a3f5f\"},\"error_y\":{\"color\":\"#2a3f5f\"},\"marker\":{\"line\":{\"color\":\"#E5ECF6\",\"width\":0.5},\"pattern\":{\"fillmode\":\"overlay\",\"size\":10,\"solidity\":0.2}},\"type\":\"bar\"}],\"barpolar\":[{\"marker\":{\"line\":{\"color\":\"#E5ECF6\",\"width\":0.5},\"pattern\":{\"fillmode\":\"overlay\",\"size\":10,\"solidity\":0.2}},\"type\":\"barpolar\"}],\"carpet\":[{\"aaxis\":{\"endlinecolor\":\"#2a3f5f\",\"gridcolor\":\"white\",\"linecolor\":\"white\",\"minorgridcolor\":\"white\",\"startlinecolor\":\"#2a3f5f\"},\"baxis\":{\"endlinecolor\":\"#2a3f5f\",\"gridcolor\":\"white\",\"linecolor\":\"white\",\"minorgridcolor\":\"white\",\"startlinecolor\":\"#2a3f5f\"},\"type\":\"carpet\"}],\"choropleth\":[{\"colorbar\":{\"outlinewidth\":0,\"ticks\":\"\"},\"type\":\"choropleth\"}],\"contour\":[{\"colorbar\":{\"outlinewidth\":0,\"ticks\":\"\"},\"colorscale\":[[0.0,\"#0d0887\"],[0.1111111111111111,\"#46039f\"],[0.2222222222222222,\"#7201a8\"],[0.3333333333333333,\"#9c179e\"],[0.4444444444444444,\"#bd3786\"],[0.5555555555555556,\"#d8576b\"],[0.6666666666666666,\"#ed7953\"],[0.7777777777777778,\"#fb9f3a\"],[0.8888888888888888,\"#fdca26\"],[1.0,\"#f0f921\"]],\"type\":\"contour\"}],\"contourcarpet\":[{\"colorbar\":{\"outlinewidth\":0,\"ticks\":\"\"},\"type\":\"contourcarpet\"}],\"heatmap\":[{\"colorbar\":{\"outlinewidth\":0,\"ticks\":\"\"},\"colorscale\":[[0.0,\"#0d0887\"],[0.1111111111111111,\"#46039f\"],[0.2222222222222222,\"#7201a8\"],[0.3333333333333333,\"#9c179e\"],[0.4444444444444444,\"#bd3786\"],[0.5555555555555556,\"#d8576b\"],[0.6666666666666666,\"#ed7953\"],[0.7777777777777778,\"#fb9f3a\"],[0.8888888888888888,\"#fdca26\"],[1.0,\"#f0f921\"]],\"type\":\"heatmap\"}],\"heatmapgl\":[{\"colorbar\":{\"outlinewidth\":0,\"ticks\":\"\"},\"colorscale\":[[0.0,\"#0d0887\"],[0.1111111111111111,\"#46039f\"],[0.2222222222222222,\"#7201a8\"],[0.3333333333333333,\"#9c179e\"],[0.4444444444444444,\"#bd3786\"],[0.5555555555555556,\"#d8576b\"],[0.6666666666666666,\"#ed7953\"],[0.7777777777777778,\"#fb9f3a\"],[0.8888888888888888,\"#fdca26\"],[1.0,\"#f0f921\"]],\"type\":\"heatmapgl\"}],\"histogram\":[{\"marker\":{\"pattern\":{\"fillmode\":\"overlay\",\"size\":10,\"solidity\":0.2}},\"type\":\"histogram\"}],\"histogram2d\":[{\"colorbar\":{\"outlinewidth\":0,\"ticks\":\"\"},\"colorscale\":[[0.0,\"#0d0887\"],[0.1111111111111111,\"#46039f\"],[0.2222222222222222,\"#7201a8\"],[0.3333333333333333,\"#9c179e\"],[0.4444444444444444,\"#bd3786\"],[0.5555555555555556,\"#d8576b\"],[0.6666666666666666,\"#ed7953\"],[0.7777777777777778,\"#fb9f3a\"],[0.8888888888888888,\"#fdca26\"],[1.0,\"#f0f921\"]],\"type\":\"histogram2d\"}],\"histogram2dcontour\":[{\"colorbar\":{\"outlinewidth\":0,\"ticks\":\"\"},\"colorscale\":[[0.0,\"#0d0887\"],[0.1111111111111111,\"#46039f\"],[0.2222222222222222,\"#7201a8\"],[0.3333333333333333,\"#9c179e\"],[0.4444444444444444,\"#bd3786\"],[0.5555555555555556,\"#d8576b\"],[0.6666666666666666,\"#ed7953\"],[0.7777777777777778,\"#fb9f3a\"],[0.8888888888888888,\"#fdca26\"],[1.0,\"#f0f921\"]],\"type\":\"histogram2dcontour\"}],\"mesh3d\":[{\"colorbar\":{\"outlinewidth\":0,\"ticks\":\"\"},\"type\":\"mesh3d\"}],\"parcoords\":[{\"line\":{\"colorbar\":{\"outlinewidth\":0,\"ticks\":\"\"}},\"type\":\"parcoords\"}],\"pie\":[{\"automargin\":true,\"type\":\"pie\"}],\"scatter\":[{\"marker\":{\"colorbar\":{\"outlinewidth\":0,\"ticks\":\"\"}},\"type\":\"scatter\"}],\"scatter3d\":[{\"line\":{\"colorbar\":{\"outlinewidth\":0,\"ticks\":\"\"}},\"marker\":{\"colorbar\":{\"outlinewidth\":0,\"ticks\":\"\"}},\"type\":\"scatter3d\"}],\"scattercarpet\":[{\"marker\":{\"colorbar\":{\"outlinewidth\":0,\"ticks\":\"\"}},\"type\":\"scattercarpet\"}],\"scattergeo\":[{\"marker\":{\"colorbar\":{\"outlinewidth\":0,\"ticks\":\"\"}},\"type\":\"scattergeo\"}],\"scattergl\":[{\"marker\":{\"colorbar\":{\"outlinewidth\":0,\"ticks\":\"\"}},\"type\":\"scattergl\"}],\"scattermapbox\":[{\"marker\":{\"colorbar\":{\"outlinewidth\":0,\"ticks\":\"\"}},\"type\":\"scattermapbox\"}],\"scatterpolar\":[{\"marker\":{\"colorbar\":{\"outlinewidth\":0,\"ticks\":\"\"}},\"type\":\"scatterpolar\"}],\"scatterpolargl\":[{\"marker\":{\"colorbar\":{\"outlinewidth\":0,\"ticks\":\"\"}},\"type\":\"scatterpolargl\"}],\"scatterternary\":[{\"marker\":{\"colorbar\":{\"outlinewidth\":0,\"ticks\":\"\"}},\"type\":\"scatterternary\"}],\"surface\":[{\"colorbar\":{\"outlinewidth\":0,\"ticks\":\"\"},\"colorscale\":[[0.0,\"#0d0887\"],[0.1111111111111111,\"#46039f\"],[0.2222222222222222,\"#7201a8\"],[0.3333333333333333,\"#9c179e\"],[0.4444444444444444,\"#bd3786\"],[0.5555555555555556,\"#d8576b\"],[0.6666666666666666,\"#ed7953\"],[0.7777777777777778,\"#fb9f3a\"],[0.8888888888888888,\"#fdca26\"],[1.0,\"#f0f921\"]],\"type\":\"surface\"}],\"table\":[{\"cells\":{\"fill\":{\"color\":\"#EBF0F8\"},\"line\":{\"color\":\"white\"}},\"header\":{\"fill\":{\"color\":\"#C8D4E3\"},\"line\":{\"color\":\"white\"}},\"type\":\"table\"}]},\"layout\":{\"annotationdefaults\":{\"arrowcolor\":\"#2a3f5f\",\"arrowhead\":0,\"arrowwidth\":1},\"autotypenumbers\":\"strict\",\"coloraxis\":{\"colorbar\":{\"outlinewidth\":0,\"ticks\":\"\"}},\"colorscale\":{\"diverging\":[[0,\"#8e0152\"],[0.1,\"#c51b7d\"],[0.2,\"#de77ae\"],[0.3,\"#f1b6da\"],[0.4,\"#fde0ef\"],[0.5,\"#f7f7f7\"],[0.6,\"#e6f5d0\"],[0.7,\"#b8e186\"],[0.8,\"#7fbc41\"],[0.9,\"#4d9221\"],[1,\"#276419\"]],\"sequential\":[[0.0,\"#0d0887\"],[0.1111111111111111,\"#46039f\"],[0.2222222222222222,\"#7201a8\"],[0.3333333333333333,\"#9c179e\"],[0.4444444444444444,\"#bd3786\"],[0.5555555555555556,\"#d8576b\"],[0.6666666666666666,\"#ed7953\"],[0.7777777777777778,\"#fb9f3a\"],[0.8888888888888888,\"#fdca26\"],[1.0,\"#f0f921\"]],\"sequentialminus\":[[0.0,\"#0d0887\"],[0.1111111111111111,\"#46039f\"],[0.2222222222222222,\"#7201a8\"],[0.3333333333333333,\"#9c179e\"],[0.4444444444444444,\"#bd3786\"],[0.5555555555555556,\"#d8576b\"],[0.6666666666666666,\"#ed7953\"],[0.7777777777777778,\"#fb9f3a\"],[0.8888888888888888,\"#fdca26\"],[1.0,\"#f0f921\"]]},\"colorway\":[\"#636efa\",\"#EF553B\",\"#00cc96\",\"#ab63fa\",\"#FFA15A\",\"#19d3f3\",\"#FF6692\",\"#B6E880\",\"#FF97FF\",\"#FECB52\"],\"font\":{\"color\":\"#2a3f5f\"},\"geo\":{\"bgcolor\":\"white\",\"lakecolor\":\"white\",\"landcolor\":\"#E5ECF6\",\"showlakes\":true,\"showland\":true,\"subunitcolor\":\"white\"},\"hoverlabel\":{\"align\":\"left\"},\"hovermode\":\"closest\",\"mapbox\":{\"style\":\"light\"},\"paper_bgcolor\":\"white\",\"plot_bgcolor\":\"#E5ECF6\",\"polar\":{\"angularaxis\":{\"gridcolor\":\"white\",\"linecolor\":\"white\",\"ticks\":\"\"},\"bgcolor\":\"#E5ECF6\",\"radialaxis\":{\"gridcolor\":\"white\",\"linecolor\":\"white\",\"ticks\":\"\"}},\"scene\":{\"xaxis\":{\"backgroundcolor\":\"#E5ECF6\",\"gridcolor\":\"white\",\"gridwidth\":2,\"linecolor\":\"white\",\"showbackground\":true,\"ticks\":\"\",\"zerolinecolor\":\"white\"},\"yaxis\":{\"backgroundcolor\":\"#E5ECF6\",\"gridcolor\":\"white\",\"gridwidth\":2,\"linecolor\":\"white\",\"showbackground\":true,\"ticks\":\"\",\"zerolinecolor\":\"white\"},\"zaxis\":{\"backgroundcolor\":\"#E5ECF6\",\"gridcolor\":\"white\",\"gridwidth\":2,\"linecolor\":\"white\",\"showbackground\":true,\"ticks\":\"\",\"zerolinecolor\":\"white\"}},\"shapedefaults\":{\"line\":{\"color\":\"#2a3f5f\"}},\"ternary\":{\"aaxis\":{\"gridcolor\":\"white\",\"linecolor\":\"white\",\"ticks\":\"\"},\"baxis\":{\"gridcolor\":\"white\",\"linecolor\":\"white\",\"ticks\":\"\"},\"bgcolor\":\"#E5ECF6\",\"caxis\":{\"gridcolor\":\"white\",\"linecolor\":\"white\",\"ticks\":\"\"}},\"title\":{\"x\":0.05},\"xaxis\":{\"automargin\":true,\"gridcolor\":\"white\",\"linecolor\":\"white\",\"ticks\":\"\",\"title\":{\"standoff\":15},\"zerolinecolor\":\"white\",\"zerolinewidth\":2},\"yaxis\":{\"automargin\":true,\"gridcolor\":\"white\",\"linecolor\":\"white\",\"ticks\":\"\",\"title\":{\"standoff\":15},\"zerolinecolor\":\"white\",\"zerolinewidth\":2}}},\"legend\":{\"tracegroupgap\":0},\"title\":{\"text\":\"Area wise Revenue Analysis\"}},                        {\"responsive\": true}                    ).then(function(){\n",
       "                            \n",
       "var gd = document.getElementById('739b3b48-8e6c-4ef1-b592-05d50bc6ee4d');\n",
       "var x = new MutationObserver(function (mutations, observer) {{\n",
       "        var display = window.getComputedStyle(gd).display;\n",
       "        if (!display || display === 'none') {{\n",
       "            console.log([gd, 'removed!']);\n",
       "            Plotly.purge(gd);\n",
       "            observer.disconnect();\n",
       "        }}\n",
       "}});\n",
       "\n",
       "// Listen for the removal of the full notebook cells\n",
       "var notebookContainer = gd.closest('#notebook-container');\n",
       "if (notebookContainer) {{\n",
       "    x.observe(notebookContainer, {childList: true});\n",
       "}}\n",
       "\n",
       "// Listen for the clearing of the current output cell\n",
       "var outputEl = gd.closest('.output');\n",
       "if (outputEl) {{\n",
       "    x.observe(outputEl, {childList: true});\n",
       "}}\n",
       "\n",
       "                        })                };                });            </script>        </div>"
      ]
     },
     "metadata": {},
     "output_type": "display_data"
    }
   ],
   "source": [
    "fig=px.pie(data_frame=df_revenue,names=df_revenue['Area'],\n",
    "          values=df_revenue['Cost_for_Two'],\n",
    "          title='Area wise Revenue Analysis')\n",
    "fig.update_traces(textposition='inside',textinfo='percent+label')\n",
    "fig.show()"
   ]
  },
  {
   "cell_type": "code",
   "execution_count": null,
   "id": "08f7bf56",
   "metadata": {},
   "outputs": [],
   "source": [
    "fig = plt.figure(figsize =(10, 7))\n",
    "plt.pie(data, labels = cars)\n",
    " \n",
    "# show plot\n",
    "plt.show()"
   ]
  },
  {
   "cell_type": "markdown",
   "id": "ed3b37ad",
   "metadata": {},
   "source": [
    "# Summary"
   ]
  },
  {
   "cell_type": "markdown",
   "id": "025677f9",
   "metadata": {},
   "source": [
    "##### Median rating of swiggy is 4.10 and median Cost for Two is 300\n",
    "##### Max Rating and Cost for two is 4.8 and 800 rupees Approximately\n",
    "##### Banglore City Restaurants Rating lies in between 4.0 to 4.8\n",
    "##### Koramangala has highest number of restaurants and genertes highest revenue\n",
    "##### The most popular food is from \"Khichdi Experiment\" with a rating of 4.8 \n",
    "##### The minimum cost for two is from \"Tandoori merchant\" .\n",
    "##### From the above distribution more than 50% restaurants are having rating greater than median rating(4.1). maximum rating is 4.8\n",
    "##### it is clear that these restaurants are consider to be good by customers\n",
    "##### most popular cuisines sold by banglore Restaurants are Chinese(19.9%) ,North Indian(18.2%)  and South Indian (13.1%)"
   ]
  },
  {
   "cell_type": "code",
   "execution_count": null,
   "id": "2c22d41a",
   "metadata": {},
   "outputs": [],
   "source": []
  },
  {
   "cell_type": "code",
   "execution_count": null,
   "id": "d1ccc6a5",
   "metadata": {},
   "outputs": [],
   "source": []
  },
  {
   "cell_type": "code",
   "execution_count": null,
   "id": "73673a6b",
   "metadata": {},
   "outputs": [],
   "source": []
  },
  {
   "cell_type": "code",
   "execution_count": null,
   "id": "9cfb7652",
   "metadata": {},
   "outputs": [],
   "source": []
  },
  {
   "cell_type": "code",
   "execution_count": null,
   "id": "7dd3cb62",
   "metadata": {},
   "outputs": [],
   "source": []
  },
  {
   "cell_type": "code",
   "execution_count": null,
   "id": "30ac05a2",
   "metadata": {},
   "outputs": [],
   "source": []
  },
  {
   "cell_type": "code",
   "execution_count": null,
   "id": "8c837268",
   "metadata": {},
   "outputs": [],
   "source": []
  },
  {
   "cell_type": "code",
   "execution_count": null,
   "id": "92cb0c48",
   "metadata": {},
   "outputs": [],
   "source": []
  },
  {
   "cell_type": "code",
   "execution_count": null,
   "id": "4a0b46cc",
   "metadata": {},
   "outputs": [],
   "source": []
  },
  {
   "cell_type": "code",
   "execution_count": null,
   "id": "07d669c7",
   "metadata": {},
   "outputs": [],
   "source": []
  }
 ],
 "metadata": {
  "kernelspec": {
   "display_name": "Python 3 (ipykernel)",
   "language": "python",
   "name": "python3"
  },
  "language_info": {
   "codemirror_mode": {
    "name": "ipython",
    "version": 3
   },
   "file_extension": ".py",
   "mimetype": "text/x-python",
   "name": "python",
   "nbconvert_exporter": "python",
   "pygments_lexer": "ipython3",
   "version": "3.9.12"
  }
 },
 "nbformat": 4,
 "nbformat_minor": 5
}
